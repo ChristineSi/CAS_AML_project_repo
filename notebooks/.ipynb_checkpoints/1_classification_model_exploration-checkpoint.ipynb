{
 "cells": [
  {
   "cell_type": "markdown",
   "metadata": {},
   "source": [
    "# Imports"
   ]
  },
  {
   "cell_type": "code",
   "execution_count": 1,
   "metadata": {},
   "outputs": [],
   "source": [
    "import pandas as pd\n",
    "import numpy as np\n",
    "from ydata_profiling import ProfileReport\n",
    "import seaborn as sns\n",
    "import matplotlib.pyplot as plt\n",
    "\n",
    "#Sklearn\n",
    "from sklearn.metrics import mean_squared_error\n",
    "from sklearn.metrics import make_scorer\n",
    "from sklearn.metrics import accuracy_score\n",
    "from sklearn.metrics import confusion_matrix\n",
    "\n",
    "from sklearn.impute import SimpleImputer\n",
    "\n",
    "from sklearn.preprocessing import StandardScaler\n",
    "from sklearn.preprocessing import OneHotEncoder\n",
    "from sklearn.preprocessing import LabelEncoder\n",
    "\n",
    "from sklearn.model_selection import train_test_split\n",
    "\n",
    "from sklearn.compose import ColumnTransformer\n",
    "\n",
    "from sklearn.pipeline import Pipeline\n",
    "\n",
    "import string\n",
    "\n",
    "import re\n",
    "\n",
    "from tensorflow.keras.preprocessing.text import text_to_word_sequence\n",
    "\n",
    "from nltk.stem import WordNetLemmatizer\n",
    "from nltk.corpus import stopwords\n",
    "\n",
    "from gensim.models import Word2Vec\n",
    "from tensorflow.keras.preprocessing.sequence import pad_sequences\n",
    "\n",
    "from tensorflow.keras import layers, Sequential\n",
    "from tensorflow.keras.optimizers import Adam\n",
    "from tensorflow.keras.callbacks import EarlyStopping\n",
    "\n",
    "from tensorflow.keras import models\n",
    "from tensorflow.keras.utils import plot_model\n"
   ]
  },
  {
   "cell_type": "code",
   "execution_count": 2,
   "metadata": {},
   "outputs": [],
   "source": [
    "df = pd.read_csv(file_path = '/Users/christine/Desktop/CAS_AML_project_repo/data/CLEAR Corpus 6.01 - CLEAR Corpus 6.01.csv')\n"
   ]
  },
  {
   "cell_type": "markdown",
   "metadata": {},
   "source": [
    "# Exploration"
   ]
  },
  {
   "cell_type": "code",
   "execution_count": 3,
   "metadata": {},
   "outputs": [
    {
     "data": {
      "text/html": [
       "<div>\n",
       "<style scoped>\n",
       "    .dataframe tbody tr th:only-of-type {\n",
       "        vertical-align: middle;\n",
       "    }\n",
       "\n",
       "    .dataframe tbody tr th {\n",
       "        vertical-align: top;\n",
       "    }\n",
       "\n",
       "    .dataframe thead th {\n",
       "        text-align: right;\n",
       "    }\n",
       "</style>\n",
       "<table border=\"1\" class=\"dataframe\">\n",
       "  <thead>\n",
       "    <tr style=\"text-align: right;\">\n",
       "      <th></th>\n",
       "      <th>ID</th>\n",
       "      <th>Last Changed</th>\n",
       "      <th>Author</th>\n",
       "      <th>Title</th>\n",
       "      <th>Anthology</th>\n",
       "      <th>URL</th>\n",
       "      <th>Source</th>\n",
       "      <th>Pub Year</th>\n",
       "      <th>Category</th>\n",
       "      <th>Location</th>\n",
       "      <th>...</th>\n",
       "      <th>CAREC_M</th>\n",
       "      <th>CARES</th>\n",
       "      <th>CML2RI</th>\n",
       "      <th>firstPlace_pred</th>\n",
       "      <th>secondPlace_pred</th>\n",
       "      <th>thirdPlace_pred</th>\n",
       "      <th>fourthPlace_pred</th>\n",
       "      <th>fifthPlace_pred</th>\n",
       "      <th>sixthPlace_pred</th>\n",
       "      <th>Kaggle split</th>\n",
       "    </tr>\n",
       "  </thead>\n",
       "  <tbody>\n",
       "    <tr>\n",
       "      <th>0</th>\n",
       "      <td>400</td>\n",
       "      <td>NaN</td>\n",
       "      <td>Carolyn Wells</td>\n",
       "      <td>Patty's Suitors</td>\n",
       "      <td>NaN</td>\n",
       "      <td>http://www.gutenberg.org/cache/epub/5631/pg563...</td>\n",
       "      <td>gutenberg</td>\n",
       "      <td>1914.0</td>\n",
       "      <td>Lit</td>\n",
       "      <td>mid</td>\n",
       "      <td>...</td>\n",
       "      <td>0.11952</td>\n",
       "      <td>0.457534</td>\n",
       "      <td>12.097815</td>\n",
       "      <td>-0.383831</td>\n",
       "      <td>-0.283604</td>\n",
       "      <td>-0.346879</td>\n",
       "      <td>-0.281620</td>\n",
       "      <td>-0.247767</td>\n",
       "      <td>-0.289945</td>\n",
       "      <td>Train</td>\n",
       "    </tr>\n",
       "    <tr>\n",
       "      <th>1</th>\n",
       "      <td>401</td>\n",
       "      <td>NaN</td>\n",
       "      <td>Carolyn Wells</td>\n",
       "      <td>Two Little Women on a Holiday</td>\n",
       "      <td>NaN</td>\n",
       "      <td>http://www.gutenberg.org/cache/epub/5893/pg589...</td>\n",
       "      <td>gutenberg</td>\n",
       "      <td>1917.0</td>\n",
       "      <td>Lit</td>\n",
       "      <td>mid</td>\n",
       "      <td>...</td>\n",
       "      <td>0.04921</td>\n",
       "      <td>0.462510</td>\n",
       "      <td>22.550179</td>\n",
       "      <td>-0.260307</td>\n",
       "      <td>-0.209960</td>\n",
       "      <td>-0.061565</td>\n",
       "      <td>-0.234231</td>\n",
       "      <td>-0.201347</td>\n",
       "      <td>-0.156156</td>\n",
       "      <td>Train</td>\n",
       "    </tr>\n",
       "    <tr>\n",
       "      <th>2</th>\n",
       "      <td>402</td>\n",
       "      <td>NaN</td>\n",
       "      <td>Carolyn Wells</td>\n",
       "      <td>Patty Blossom</td>\n",
       "      <td>NaN</td>\n",
       "      <td>http://www.gutenberg.org/cache/epub/20945/pg20...</td>\n",
       "      <td>gutenberg</td>\n",
       "      <td>1917.0</td>\n",
       "      <td>Lit</td>\n",
       "      <td>mid</td>\n",
       "      <td>...</td>\n",
       "      <td>0.09724</td>\n",
       "      <td>0.369259</td>\n",
       "      <td>18.125279</td>\n",
       "      <td>-0.615037</td>\n",
       "      <td>-0.530600</td>\n",
       "      <td>-0.527847</td>\n",
       "      <td>-0.550180</td>\n",
       "      <td>-0.565762</td>\n",
       "      <td>-0.538852</td>\n",
       "      <td>Train</td>\n",
       "    </tr>\n",
       "    <tr>\n",
       "      <th>3</th>\n",
       "      <td>403</td>\n",
       "      <td>NaN</td>\n",
       "      <td>CHARLES KINGSLEY</td>\n",
       "      <td>THE WATER-BABIES\\nA Fairy Tale for a Land-Baby</td>\n",
       "      <td>NaN</td>\n",
       "      <td>http://www.gutenberg.org/files/25564/25564-h/2...</td>\n",
       "      <td>gutenberg</td>\n",
       "      <td>1863.0</td>\n",
       "      <td>Lit</td>\n",
       "      <td>mid</td>\n",
       "      <td>...</td>\n",
       "      <td>0.08856</td>\n",
       "      <td>0.390759</td>\n",
       "      <td>10.959460</td>\n",
       "      <td>-1.528806</td>\n",
       "      <td>-1.525546</td>\n",
       "      <td>-1.471455</td>\n",
       "      <td>-1.265776</td>\n",
       "      <td>-1.422547</td>\n",
       "      <td>-1.393155</td>\n",
       "      <td>Test</td>\n",
       "    </tr>\n",
       "    <tr>\n",
       "      <th>4</th>\n",
       "      <td>404</td>\n",
       "      <td>NaN</td>\n",
       "      <td>Charles Kingsley</td>\n",
       "      <td>HOW THE ARGONAUTS WERE DRIVEN INTO THE UNKNOWN...</td>\n",
       "      <td>The Heroes\\n       or Greek Fairy Tales for my...</td>\n",
       "      <td>http://www.gutenberg.org/files/677/677-h/677-h...</td>\n",
       "      <td>gutenberg</td>\n",
       "      <td>1889.0</td>\n",
       "      <td>Lit</td>\n",
       "      <td>mid</td>\n",
       "      <td>...</td>\n",
       "      <td>0.08798</td>\n",
       "      <td>0.389226</td>\n",
       "      <td>3.195960</td>\n",
       "      <td>-1.335586</td>\n",
       "      <td>-1.321922</td>\n",
       "      <td>-1.163985</td>\n",
       "      <td>-1.122501</td>\n",
       "      <td>-1.185518</td>\n",
       "      <td>-1.271324</td>\n",
       "      <td>Train</td>\n",
       "    </tr>\n",
       "  </tbody>\n",
       "</table>\n",
       "<p>5 rows × 40 columns</p>\n",
       "</div>"
      ],
      "text/plain": [
       "    ID  Last Changed            Author  \\\n",
       "0  400           NaN     Carolyn Wells   \n",
       "1  401           NaN     Carolyn Wells   \n",
       "2  402           NaN     Carolyn Wells   \n",
       "3  403           NaN  CHARLES KINGSLEY   \n",
       "4  404           NaN  Charles Kingsley   \n",
       "\n",
       "                                               Title  \\\n",
       "0                                    Patty's Suitors   \n",
       "1                      Two Little Women on a Holiday   \n",
       "2                                      Patty Blossom   \n",
       "3     THE WATER-BABIES\\nA Fairy Tale for a Land-Baby   \n",
       "4  HOW THE ARGONAUTS WERE DRIVEN INTO THE UNKNOWN...   \n",
       "\n",
       "                                           Anthology  \\\n",
       "0                                                NaN   \n",
       "1                                                NaN   \n",
       "2                                                NaN   \n",
       "3                                                NaN   \n",
       "4  The Heroes\\n       or Greek Fairy Tales for my...   \n",
       "\n",
       "                                                 URL     Source  Pub Year  \\\n",
       "0  http://www.gutenberg.org/cache/epub/5631/pg563...  gutenberg    1914.0   \n",
       "1  http://www.gutenberg.org/cache/epub/5893/pg589...  gutenberg    1917.0   \n",
       "2  http://www.gutenberg.org/cache/epub/20945/pg20...  gutenberg    1917.0   \n",
       "3  http://www.gutenberg.org/files/25564/25564-h/2...  gutenberg    1863.0   \n",
       "4  http://www.gutenberg.org/files/677/677-h/677-h...  gutenberg    1889.0   \n",
       "\n",
       "  Category Location  ...  CAREC_M     CARES     CML2RI  firstPlace_pred  \\\n",
       "0      Lit      mid  ...  0.11952  0.457534  12.097815        -0.383831   \n",
       "1      Lit      mid  ...  0.04921  0.462510  22.550179        -0.260307   \n",
       "2      Lit      mid  ...  0.09724  0.369259  18.125279        -0.615037   \n",
       "3      Lit      mid  ...  0.08856  0.390759  10.959460        -1.528806   \n",
       "4      Lit      mid  ...  0.08798  0.389226   3.195960        -1.335586   \n",
       "\n",
       "  secondPlace_pred  thirdPlace_pred  fourthPlace_pred  fifthPlace_pred  \\\n",
       "0        -0.283604        -0.346879         -0.281620        -0.247767   \n",
       "1        -0.209960        -0.061565         -0.234231        -0.201347   \n",
       "2        -0.530600        -0.527847         -0.550180        -0.565762   \n",
       "3        -1.525546        -1.471455         -1.265776        -1.422547   \n",
       "4        -1.321922        -1.163985         -1.122501        -1.185518   \n",
       "\n",
       "  sixthPlace_pred  Kaggle split  \n",
       "0       -0.289945         Train  \n",
       "1       -0.156156         Train  \n",
       "2       -0.538852         Train  \n",
       "3       -1.393155          Test  \n",
       "4       -1.271324         Train  \n",
       "\n",
       "[5 rows x 40 columns]"
      ]
     },
     "execution_count": 3,
     "metadata": {},
     "output_type": "execute_result"
    }
   ],
   "source": [
    "df.head()\n"
   ]
  },
  {
   "cell_type": "code",
   "execution_count": 4,
   "metadata": {},
   "outputs": [
    {
     "data": {
      "text/plain": [
       "(4724, 40)"
      ]
     },
     "execution_count": 4,
     "metadata": {},
     "output_type": "execute_result"
    }
   ],
   "source": [
    "df.shape\n"
   ]
  },
  {
   "cell_type": "code",
   "execution_count": 5,
   "metadata": {},
   "outputs": [
    {
     "data": {
      "text/plain": [
       "Index(['ID', 'Last Changed', 'Author', 'Title', 'Anthology', 'URL', 'Source',\n",
       "       'Pub Year', 'Category', 'Location', 'License', 'MPAA\\nMax',\n",
       "       'MPAA \\n#Max', 'MPAA\\n#Avg', 'Excerpt', 'Google\\nWC', 'Joon\\nWC v1',\n",
       "       'British WC', 'British Words', 'Sentence\\nCount v1',\n",
       "       'Sentence\\nCount v2', 'Paragraphs', 'BT Easiness', 'BT s.e.',\n",
       "       'Flesch-Reading-Ease', 'Flesch-Kincaid-Grade-Level',\n",
       "       'Automated Readability Index', 'SMOG Readability',\n",
       "       'New Dale-Chall Readability Formula', 'CAREC', 'CAREC_M', 'CARES',\n",
       "       'CML2RI', 'firstPlace_pred', 'secondPlace_pred', 'thirdPlace_pred',\n",
       "       'fourthPlace_pred', 'fifthPlace_pred', 'sixthPlace_pred',\n",
       "       'Kaggle split'],\n",
       "      dtype='object')"
      ]
     },
     "execution_count": 5,
     "metadata": {},
     "output_type": "execute_result"
    }
   ],
   "source": [
    "df.columns\n"
   ]
  },
  {
   "cell_type": "code",
   "execution_count": 6,
   "metadata": {},
   "outputs": [],
   "source": [
    "df = df.drop(columns=['Last Changed', 'URL', 'Anthology', 'MPAA \\n#Max', 'Pub Year', 'MPAA\\n#Avg', 'License', 'British Words', 'firstPlace_pred', 'secondPlace_pred', 'thirdPlace_pred',\n",
    "       'fourthPlace_pred', 'fifthPlace_pred', 'sixthPlace_pred', 'ID', 'Author', 'Title', 'Source', 'Category', 'Location', 'MPAA\\nMax', 'BT s.e.', 'Kaggle split'])\n"
   ]
  },
  {
   "cell_type": "code",
   "execution_count": 7,
   "metadata": {},
   "outputs": [
    {
     "data": {
      "text/html": [
       "<div>\n",
       "<style scoped>\n",
       "    .dataframe tbody tr th:only-of-type {\n",
       "        vertical-align: middle;\n",
       "    }\n",
       "\n",
       "    .dataframe tbody tr th {\n",
       "        vertical-align: top;\n",
       "    }\n",
       "\n",
       "    .dataframe thead th {\n",
       "        text-align: right;\n",
       "    }\n",
       "</style>\n",
       "<table border=\"1\" class=\"dataframe\">\n",
       "  <thead>\n",
       "    <tr style=\"text-align: right;\">\n",
       "      <th></th>\n",
       "      <th>Excerpt</th>\n",
       "      <th>Google\\nWC</th>\n",
       "      <th>Joon\\nWC v1</th>\n",
       "      <th>British WC</th>\n",
       "      <th>Sentence\\nCount v1</th>\n",
       "      <th>Sentence\\nCount v2</th>\n",
       "      <th>Paragraphs</th>\n",
       "      <th>BT Easiness</th>\n",
       "      <th>Flesch-Reading-Ease</th>\n",
       "      <th>Flesch-Kincaid-Grade-Level</th>\n",
       "      <th>Automated Readability Index</th>\n",
       "      <th>SMOG Readability</th>\n",
       "      <th>New Dale-Chall Readability Formula</th>\n",
       "      <th>CAREC</th>\n",
       "      <th>CAREC_M</th>\n",
       "      <th>CARES</th>\n",
       "      <th>CML2RI</th>\n",
       "    </tr>\n",
       "  </thead>\n",
       "  <tbody>\n",
       "    <tr>\n",
       "      <th>0</th>\n",
       "      <td>When the young people returned to the ballroom...</td>\n",
       "      <td>174</td>\n",
       "      <td>179</td>\n",
       "      <td>1</td>\n",
       "      <td>11</td>\n",
       "      <td>11</td>\n",
       "      <td>6</td>\n",
       "      <td>-0.340259</td>\n",
       "      <td>81.70</td>\n",
       "      <td>5.95</td>\n",
       "      <td>7.37</td>\n",
       "      <td>8.0</td>\n",
       "      <td>6.55</td>\n",
       "      <td>0.12102</td>\n",
       "      <td>0.11952</td>\n",
       "      <td>0.457534</td>\n",
       "      <td>12.097815</td>\n",
       "    </tr>\n",
       "    <tr>\n",
       "      <th>1</th>\n",
       "      <td>All through dinner time, Mrs. Fayre was somewh...</td>\n",
       "      <td>164</td>\n",
       "      <td>184</td>\n",
       "      <td>0</td>\n",
       "      <td>15</td>\n",
       "      <td>15</td>\n",
       "      <td>6</td>\n",
       "      <td>-0.315372</td>\n",
       "      <td>80.26</td>\n",
       "      <td>4.86</td>\n",
       "      <td>4.16</td>\n",
       "      <td>7.0</td>\n",
       "      <td>6.25</td>\n",
       "      <td>0.04921</td>\n",
       "      <td>0.04921</td>\n",
       "      <td>0.462510</td>\n",
       "      <td>22.550179</td>\n",
       "    </tr>\n",
       "    <tr>\n",
       "      <th>2</th>\n",
       "      <td>As Roger had predicted, the snow departed as q...</td>\n",
       "      <td>162</td>\n",
       "      <td>180</td>\n",
       "      <td>0</td>\n",
       "      <td>11</td>\n",
       "      <td>11</td>\n",
       "      <td>5</td>\n",
       "      <td>-0.580118</td>\n",
       "      <td>79.04</td>\n",
       "      <td>6.03</td>\n",
       "      <td>5.81</td>\n",
       "      <td>9.0</td>\n",
       "      <td>7.31</td>\n",
       "      <td>0.10172</td>\n",
       "      <td>0.09724</td>\n",
       "      <td>0.369259</td>\n",
       "      <td>18.125279</td>\n",
       "    </tr>\n",
       "    <tr>\n",
       "      <th>3</th>\n",
       "      <td>Mr. Grimes was to come up next morning to Sir ...</td>\n",
       "      <td>159</td>\n",
       "      <td>160</td>\n",
       "      <td>0</td>\n",
       "      <td>3</td>\n",
       "      <td>3</td>\n",
       "      <td>1</td>\n",
       "      <td>-1.785965</td>\n",
       "      <td>44.77</td>\n",
       "      <td>20.51</td>\n",
       "      <td>24.87</td>\n",
       "      <td>12.0</td>\n",
       "      <td>8.56</td>\n",
       "      <td>0.07491</td>\n",
       "      <td>0.08856</td>\n",
       "      <td>0.390759</td>\n",
       "      <td>10.959460</td>\n",
       "    </tr>\n",
       "    <tr>\n",
       "      <th>4</th>\n",
       "      <td>And outside before the palace a great garden w...</td>\n",
       "      <td>163</td>\n",
       "      <td>164</td>\n",
       "      <td>1</td>\n",
       "      <td>5</td>\n",
       "      <td>5</td>\n",
       "      <td>2</td>\n",
       "      <td>-1.054013</td>\n",
       "      <td>68.07</td>\n",
       "      <td>12.06</td>\n",
       "      <td>15.47</td>\n",
       "      <td>8.0</td>\n",
       "      <td>7.00</td>\n",
       "      <td>0.06356</td>\n",
       "      <td>0.08798</td>\n",
       "      <td>0.389226</td>\n",
       "      <td>3.195960</td>\n",
       "    </tr>\n",
       "  </tbody>\n",
       "</table>\n",
       "</div>"
      ],
      "text/plain": [
       "                                             Excerpt  Google\\nWC  Joon\\nWC v1  \\\n",
       "0  When the young people returned to the ballroom...         174          179   \n",
       "1  All through dinner time, Mrs. Fayre was somewh...         164          184   \n",
       "2  As Roger had predicted, the snow departed as q...         162          180   \n",
       "3  Mr. Grimes was to come up next morning to Sir ...         159          160   \n",
       "4  And outside before the palace a great garden w...         163          164   \n",
       "\n",
       "   British WC  Sentence\\nCount v1  Sentence\\nCount v2  Paragraphs  \\\n",
       "0           1                  11                  11           6   \n",
       "1           0                  15                  15           6   \n",
       "2           0                  11                  11           5   \n",
       "3           0                   3                   3           1   \n",
       "4           1                   5                   5           2   \n",
       "\n",
       "   BT Easiness  Flesch-Reading-Ease  Flesch-Kincaid-Grade-Level  \\\n",
       "0    -0.340259                81.70                        5.95   \n",
       "1    -0.315372                80.26                        4.86   \n",
       "2    -0.580118                79.04                        6.03   \n",
       "3    -1.785965                44.77                       20.51   \n",
       "4    -1.054013                68.07                       12.06   \n",
       "\n",
       "   Automated Readability Index  SMOG Readability  \\\n",
       "0                         7.37               8.0   \n",
       "1                         4.16               7.0   \n",
       "2                         5.81               9.0   \n",
       "3                        24.87              12.0   \n",
       "4                        15.47               8.0   \n",
       "\n",
       "   New Dale-Chall Readability Formula    CAREC  CAREC_M     CARES     CML2RI  \n",
       "0                                6.55  0.12102  0.11952  0.457534  12.097815  \n",
       "1                                6.25  0.04921  0.04921  0.462510  22.550179  \n",
       "2                                7.31  0.10172  0.09724  0.369259  18.125279  \n",
       "3                                8.56  0.07491  0.08856  0.390759  10.959460  \n",
       "4                                7.00  0.06356  0.08798  0.389226   3.195960  "
      ]
     },
     "execution_count": 7,
     "metadata": {},
     "output_type": "execute_result"
    }
   ],
   "source": [
    "df.head()\n"
   ]
  },
  {
   "cell_type": "code",
   "execution_count": 8,
   "metadata": {},
   "outputs": [
    {
     "name": "stdout",
     "output_type": "stream",
     "text": [
      "<class 'pandas.core.frame.DataFrame'>\n",
      "RangeIndex: 4724 entries, 0 to 4723\n",
      "Data columns (total 17 columns):\n",
      " #   Column                              Non-Null Count  Dtype  \n",
      "---  ------                              --------------  -----  \n",
      " 0   Excerpt                             4724 non-null   object \n",
      " 1   Google\n",
      "WC                           4724 non-null   int64  \n",
      " 2   Joon\n",
      "WC v1                          4724 non-null   int64  \n",
      " 3   British WC                          4724 non-null   int64  \n",
      " 4   Sentence\n",
      "Count v1                   4724 non-null   int64  \n",
      " 5   Sentence\n",
      "Count v2                   4724 non-null   int64  \n",
      " 6   Paragraphs                          4724 non-null   int64  \n",
      " 7   BT Easiness                         4724 non-null   float64\n",
      " 8   Flesch-Reading-Ease                 4724 non-null   float64\n",
      " 9   Flesch-Kincaid-Grade-Level          4724 non-null   float64\n",
      " 10  Automated Readability Index         4724 non-null   float64\n",
      " 11  SMOG Readability                    4724 non-null   float64\n",
      " 12  New Dale-Chall Readability Formula  4724 non-null   float64\n",
      " 13  CAREC                               4724 non-null   float64\n",
      " 14  CAREC_M                             4724 non-null   float64\n",
      " 15  CARES                               4724 non-null   float64\n",
      " 16  CML2RI                              4724 non-null   float64\n",
      "dtypes: float64(10), int64(6), object(1)\n",
      "memory usage: 627.5+ KB\n"
     ]
    }
   ],
   "source": [
    "df.info()\n"
   ]
  },
  {
   "cell_type": "code",
   "execution_count": 9,
   "metadata": {},
   "outputs": [],
   "source": [
    "# profile = ProfileReport(df, title=\"Profiling Report\")\n"
   ]
  },
  {
   "cell_type": "code",
   "execution_count": 10,
   "metadata": {},
   "outputs": [],
   "source": [
    "# profile.to_widgets()\n"
   ]
  },
  {
   "cell_type": "code",
   "execution_count": 11,
   "metadata": {},
   "outputs": [
    {
     "data": {
      "text/plain": [
       "-0.9576386305268841"
      ]
     },
     "execution_count": 11,
     "metadata": {},
     "output_type": "execute_result"
    }
   ],
   "source": [
    "np.mean(df['BT Easiness'])\n"
   ]
  },
  {
   "cell_type": "code",
   "execution_count": 12,
   "metadata": {},
   "outputs": [
    {
     "data": {
      "text/plain": [
       "-0.9090941785"
      ]
     },
     "execution_count": 12,
     "metadata": {},
     "output_type": "execute_result"
    }
   ],
   "source": [
    "np.median(df['BT Easiness'])\n"
   ]
  },
  {
   "cell_type": "code",
   "execution_count": 13,
   "metadata": {},
   "outputs": [
    {
     "name": "stderr",
     "output_type": "stream",
     "text": [
      "/Users/christine/.pyenv/versions/3.10.6/envs/neuroCraft/lib/python3.10/site-packages/seaborn/_oldcore.py:1498: FutureWarning: is_categorical_dtype is deprecated and will be removed in a future version. Use isinstance(dtype, CategoricalDtype) instead\n",
      "  if pd.api.types.is_categorical_dtype(vector):\n",
      "/Users/christine/.pyenv/versions/3.10.6/envs/neuroCraft/lib/python3.10/site-packages/seaborn/_oldcore.py:1119: FutureWarning: use_inf_as_na option is deprecated and will be removed in a future version. Convert inf values to NaN before operating instead.\n",
      "  with pd.option_context('mode.use_inf_as_na', True):\n"
     ]
    },
    {
     "data": {
      "image/png": "[encoded data removed]",
      "text/plain": [
       "<Figure size 640x480 with 1 Axes>"
      ]
     },
     "metadata": {},
     "output_type": "display_data"
    }
   ],
   "source": [
    "sns.histplot(data=df, x='BT Easiness', kde=False)\n",
    "plt.show()"
   ]
  },
  {
   "cell_type": "code",
   "execution_count": 14,
   "metadata": {},
   "outputs": [
    {
     "name": "stderr",
     "output_type": "stream",
     "text": [
      "/Users/christine/.pyenv/versions/3.10.6/envs/neuroCraft/lib/python3.10/site-packages/seaborn/_oldcore.py:1498: FutureWarning: is_categorical_dtype is deprecated and will be removed in a future version. Use isinstance(dtype, CategoricalDtype) instead\n",
      "  if pd.api.types.is_categorical_dtype(vector):\n",
      "/Users/christine/.pyenv/versions/3.10.6/envs/neuroCraft/lib/python3.10/site-packages/seaborn/_oldcore.py:1119: FutureWarning: use_inf_as_na option is deprecated and will be removed in a future version. Convert inf values to NaN before operating instead.\n",
      "  with pd.option_context('mode.use_inf_as_na', True):\n"
     ]
    },
    {
     "data": {
      "image/png": "[encoded data removed]",
      "text/plain": [
       "<Figure size 640x480 with 1 Axes>"
      ]
     },
     "metadata": {},
     "output_type": "display_data"
    }
   ],
   "source": [
    "sns.histplot(data=df, x='BT Easiness', kde=True)\n",
    "plt.show()"
   ]
  },
  {
   "cell_type": "code",
   "execution_count": 15,
   "metadata": {},
   "outputs": [
    {
     "name": "stderr",
     "output_type": "stream",
     "text": [
      "/Users/christine/.pyenv/versions/3.10.6/envs/neuroCraft/lib/python3.10/site-packages/seaborn/_oldcore.py:1498: FutureWarning: is_categorical_dtype is deprecated and will be removed in a future version. Use isinstance(dtype, CategoricalDtype) instead\n",
      "  if pd.api.types.is_categorical_dtype(vector):\n"
     ]
    },
    {
     "data": {
      "text/plain": [
       "<Axes: xlabel='BT Easiness'>"
      ]
     },
     "execution_count": 15,
     "metadata": {},
     "output_type": "execute_result"
    },
    {
     "data": {
      "image/png": "[encoded data removed]",
      "text/plain": [
       "<Figure size 640x480 with 1 Axes>"
      ]
     },
     "metadata": {},
     "output_type": "display_data"
    }
   ],
   "source": [
    "sns.boxplot(data = df, x='BT Easiness')\n"
   ]
  },
  {
   "cell_type": "code",
   "execution_count": 16,
   "metadata": {},
   "outputs": [
    {
     "data": {
      "text/plain": [
       "'Once upon a time there were Three Bears who lived together in a house of their own in a wood. One of them was a Little, Small, Wee Bear; and one was a Middle-sized Bear, and the other was a Great, Huge Bear. They had each a pot for their porridge; a little pot for the Little, Small, Wee Bear; and a middle-sized pot for the Middle Bear; and a great pot for the Great, Huge Bear. And they had each a chair to sit in; a little chair for the Little, Small, Wee Bear; and a middle-sized chair for the Middle Bear; and a great chair for the Great, Huge Bear. And they had each a bed to sleep in; a little bed for the Little, Small, Wee Bear; and a middle-sized bed for the Middle Bear; and a great bed for the Great, Huge Bear.'"
      ]
     },
     "execution_count": 16,
     "metadata": {},
     "output_type": "execute_result"
    }
   ],
   "source": [
    "df[df['BT Easiness'] > 0]['Excerpt'].iloc[0]\n"
   ]
  },
  {
   "cell_type": "code",
   "execution_count": 17,
   "metadata": {},
   "outputs": [
    {
     "data": {
      "text/plain": [
       "\"It was believed by the principal men of Virginia that Talbot's sympathies were with the revolted colonies; but the influence of his mother, to whom he had been accustomed to defer, had hitherto proved sufficient to prevent him from openly declaring himself. His visit to England, and the delightful reception he had met with there, had weakened somewhat the ties which bound him to his native country, and he found himself in a state of indecision as humiliating as it was painful. Lord Dunmore and Colonel Wilton had each made great efforts to enlist his support, on account of his wealth and position and high personal qualities. It was hinted by one that the ancient barony of the Talbots would be revived by the king; and the gratitude of a free and grateful country, with the consciousness of having materially aided in acquiring that independence which should be the birthright of every Englishman, was eloquently portrayed by the other. When to the last plea was added the personal preference of Katharine Wilton, the balance was overcome, and the hopes of the mother were doomed to disappointment.\""
      ]
     },
     "execution_count": 17,
     "metadata": {},
     "output_type": "execute_result"
    }
   ],
   "source": [
    "df[df['BT Easiness'] < -2]['Excerpt'].iloc[0]\n"
   ]
  },
  {
   "cell_type": "markdown",
   "metadata": {},
   "source": [
    "# Feature Creation"
   ]
  },
  {
   "cell_type": "markdown",
   "metadata": {},
   "source": [
    "### Adding Excerpt lenght in characters feature"
   ]
  },
  {
   "cell_type": "code",
   "execution_count": 18,
   "metadata": {},
   "outputs": [],
   "source": [
    "df['len_char'] = df['Excerpt'].apply(lambda x: len(x))\n"
   ]
  },
  {
   "cell_type": "markdown",
   "metadata": {},
   "source": [
    "### Adding Punctuation Ratio"
   ]
  },
  {
   "cell_type": "code",
   "execution_count": 19,
   "metadata": {},
   "outputs": [
    {
     "data": {
      "text/html": [
       "<div>\n",
       "<style scoped>\n",
       "    .dataframe tbody tr th:only-of-type {\n",
       "        vertical-align: middle;\n",
       "    }\n",
       "\n",
       "    .dataframe tbody tr th {\n",
       "        vertical-align: top;\n",
       "    }\n",
       "\n",
       "    .dataframe thead th {\n",
       "        text-align: right;\n",
       "    }\n",
       "</style>\n",
       "<table border=\"1\" class=\"dataframe\">\n",
       "  <thead>\n",
       "    <tr style=\"text-align: right;\">\n",
       "      <th></th>\n",
       "      <th>Excerpt</th>\n",
       "      <th>Google\\nWC</th>\n",
       "      <th>Joon\\nWC v1</th>\n",
       "      <th>British WC</th>\n",
       "      <th>Sentence\\nCount v1</th>\n",
       "      <th>Sentence\\nCount v2</th>\n",
       "      <th>Paragraphs</th>\n",
       "      <th>BT Easiness</th>\n",
       "      <th>Flesch-Reading-Ease</th>\n",
       "      <th>Flesch-Kincaid-Grade-Level</th>\n",
       "      <th>Automated Readability Index</th>\n",
       "      <th>SMOG Readability</th>\n",
       "      <th>New Dale-Chall Readability Formula</th>\n",
       "      <th>CAREC</th>\n",
       "      <th>CAREC_M</th>\n",
       "      <th>CARES</th>\n",
       "      <th>CML2RI</th>\n",
       "      <th>len_char</th>\n",
       "      <th>punctuation_ratio</th>\n",
       "    </tr>\n",
       "  </thead>\n",
       "  <tbody>\n",
       "    <tr>\n",
       "      <th>0</th>\n",
       "      <td>When the young people returned to the ballroom...</td>\n",
       "      <td>174</td>\n",
       "      <td>179</td>\n",
       "      <td>1</td>\n",
       "      <td>11</td>\n",
       "      <td>11</td>\n",
       "      <td>6</td>\n",
       "      <td>-0.340259</td>\n",
       "      <td>81.70</td>\n",
       "      <td>5.95</td>\n",
       "      <td>7.37</td>\n",
       "      <td>8.0</td>\n",
       "      <td>6.55</td>\n",
       "      <td>0.12102</td>\n",
       "      <td>0.11952</td>\n",
       "      <td>0.457534</td>\n",
       "      <td>12.097815</td>\n",
       "      <td>992</td>\n",
       "      <td>0.027218</td>\n",
       "    </tr>\n",
       "    <tr>\n",
       "      <th>1</th>\n",
       "      <td>All through dinner time, Mrs. Fayre was somewh...</td>\n",
       "      <td>164</td>\n",
       "      <td>184</td>\n",
       "      <td>0</td>\n",
       "      <td>15</td>\n",
       "      <td>15</td>\n",
       "      <td>6</td>\n",
       "      <td>-0.315372</td>\n",
       "      <td>80.26</td>\n",
       "      <td>4.86</td>\n",
       "      <td>4.16</td>\n",
       "      <td>7.0</td>\n",
       "      <td>6.25</td>\n",
       "      <td>0.04921</td>\n",
       "      <td>0.04921</td>\n",
       "      <td>0.462510</td>\n",
       "      <td>22.550179</td>\n",
       "      <td>937</td>\n",
       "      <td>0.059765</td>\n",
       "    </tr>\n",
       "    <tr>\n",
       "      <th>2</th>\n",
       "      <td>As Roger had predicted, the snow departed as q...</td>\n",
       "      <td>162</td>\n",
       "      <td>180</td>\n",
       "      <td>0</td>\n",
       "      <td>11</td>\n",
       "      <td>11</td>\n",
       "      <td>5</td>\n",
       "      <td>-0.580118</td>\n",
       "      <td>79.04</td>\n",
       "      <td>6.03</td>\n",
       "      <td>5.81</td>\n",
       "      <td>9.0</td>\n",
       "      <td>7.31</td>\n",
       "      <td>0.10172</td>\n",
       "      <td>0.09724</td>\n",
       "      <td>0.369259</td>\n",
       "      <td>18.125279</td>\n",
       "      <td>908</td>\n",
       "      <td>0.051762</td>\n",
       "    </tr>\n",
       "    <tr>\n",
       "      <th>3</th>\n",
       "      <td>Mr. Grimes was to come up next morning to Sir ...</td>\n",
       "      <td>159</td>\n",
       "      <td>160</td>\n",
       "      <td>0</td>\n",
       "      <td>3</td>\n",
       "      <td>3</td>\n",
       "      <td>1</td>\n",
       "      <td>-1.785965</td>\n",
       "      <td>44.77</td>\n",
       "      <td>20.51</td>\n",
       "      <td>24.87</td>\n",
       "      <td>12.0</td>\n",
       "      <td>8.56</td>\n",
       "      <td>0.07491</td>\n",
       "      <td>0.08856</td>\n",
       "      <td>0.390759</td>\n",
       "      <td>10.959460</td>\n",
       "      <td>848</td>\n",
       "      <td>0.036557</td>\n",
       "    </tr>\n",
       "    <tr>\n",
       "      <th>4</th>\n",
       "      <td>And outside before the palace a great garden w...</td>\n",
       "      <td>163</td>\n",
       "      <td>164</td>\n",
       "      <td>1</td>\n",
       "      <td>5</td>\n",
       "      <td>5</td>\n",
       "      <td>2</td>\n",
       "      <td>-1.054013</td>\n",
       "      <td>68.07</td>\n",
       "      <td>12.06</td>\n",
       "      <td>15.47</td>\n",
       "      <td>8.0</td>\n",
       "      <td>7.00</td>\n",
       "      <td>0.06356</td>\n",
       "      <td>0.08798</td>\n",
       "      <td>0.389226</td>\n",
       "      <td>3.195960</td>\n",
       "      <td>909</td>\n",
       "      <td>0.036304</td>\n",
       "    </tr>\n",
       "  </tbody>\n",
       "</table>\n",
       "</div>"
      ],
      "text/plain": [
       "                                             Excerpt  Google\\nWC  Joon\\nWC v1  \\\n",
       "0  When the young people returned to the ballroom...         174          179   \n",
       "1  All through dinner time, Mrs. Fayre was somewh...         164          184   \n",
       "2  As Roger had predicted, the snow departed as q...         162          180   \n",
       "3  Mr. Grimes was to come up next morning to Sir ...         159          160   \n",
       "4  And outside before the palace a great garden w...         163          164   \n",
       "\n",
       "   British WC  Sentence\\nCount v1  Sentence\\nCount v2  Paragraphs  \\\n",
       "0           1                  11                  11           6   \n",
       "1           0                  15                  15           6   \n",
       "2           0                  11                  11           5   \n",
       "3           0                   3                   3           1   \n",
       "4           1                   5                   5           2   \n",
       "\n",
       "   BT Easiness  Flesch-Reading-Ease  Flesch-Kincaid-Grade-Level  \\\n",
       "0    -0.340259                81.70                        5.95   \n",
       "1    -0.315372                80.26                        4.86   \n",
       "2    -0.580118                79.04                        6.03   \n",
       "3    -1.785965                44.77                       20.51   \n",
       "4    -1.054013                68.07                       12.06   \n",
       "\n",
       "   Automated Readability Index  SMOG Readability  \\\n",
       "0                         7.37               8.0   \n",
       "1                         4.16               7.0   \n",
       "2                         5.81               9.0   \n",
       "3                        24.87              12.0   \n",
       "4                        15.47               8.0   \n",
       "\n",
       "   New Dale-Chall Readability Formula    CAREC  CAREC_M     CARES     CML2RI  \\\n",
       "0                                6.55  0.12102  0.11952  0.457534  12.097815   \n",
       "1                                6.25  0.04921  0.04921  0.462510  22.550179   \n",
       "2                                7.31  0.10172  0.09724  0.369259  18.125279   \n",
       "3                                8.56  0.07491  0.08856  0.390759  10.959460   \n",
       "4                                7.00  0.06356  0.08798  0.389226   3.195960   \n",
       "\n",
       "   len_char  punctuation_ratio  \n",
       "0       992           0.027218  \n",
       "1       937           0.059765  \n",
       "2       908           0.051762  \n",
       "3       848           0.036557  \n",
       "4       909           0.036304  "
      ]
     },
     "execution_count": 19,
     "metadata": {},
     "output_type": "execute_result"
    }
   ],
   "source": [
    "import string\n",
    "\n",
    "def count_punctuation(x):\n",
    "\n",
    "    punc = string.punctuation\n",
    "\n",
    "    count=0\n",
    "\n",
    "    for char in x:\n",
    "        if char in punc:\n",
    "            count+=1\n",
    "\n",
    "    return count/ len(x)\n",
    "\n",
    "df['punctuation_ratio'] = df['Excerpt'].apply(count_punctuation)\n",
    "\n",
    "df.head()\n"
   ]
  },
  {
   "cell_type": "markdown",
   "metadata": {},
   "source": [
    "### Adding Average Sentence Lenght"
   ]
  },
  {
   "cell_type": "code",
   "execution_count": 20,
   "metadata": {},
   "outputs": [],
   "source": [
    "def sentence_len(x):\n",
    "\n",
    "    x = x.replace(\"?\",'.').replace(\"!\",'.')\n",
    "\n",
    "    sentences = x.split('.')\n",
    "\n",
    "    sentences = [sentence for sentence in sentences if len(sentence) > 0]\n",
    "\n",
    "    sent_len = [len(sentence.split()) for sentence in sentences]\n",
    "\n",
    "    return np.mean(sent_len)\n"
   ]
  },
  {
   "cell_type": "code",
   "execution_count": 21,
   "metadata": {},
   "outputs": [
    {
     "data": {
      "text/html": [
       "<div>\n",
       "<style scoped>\n",
       "    .dataframe tbody tr th:only-of-type {\n",
       "        vertical-align: middle;\n",
       "    }\n",
       "\n",
       "    .dataframe tbody tr th {\n",
       "        vertical-align: top;\n",
       "    }\n",
       "\n",
       "    .dataframe thead th {\n",
       "        text-align: right;\n",
       "    }\n",
       "</style>\n",
       "<table border=\"1\" class=\"dataframe\">\n",
       "  <thead>\n",
       "    <tr style=\"text-align: right;\">\n",
       "      <th></th>\n",
       "      <th>Excerpt</th>\n",
       "      <th>Google\\nWC</th>\n",
       "      <th>Joon\\nWC v1</th>\n",
       "      <th>British WC</th>\n",
       "      <th>Sentence\\nCount v1</th>\n",
       "      <th>Sentence\\nCount v2</th>\n",
       "      <th>Paragraphs</th>\n",
       "      <th>BT Easiness</th>\n",
       "      <th>Flesch-Reading-Ease</th>\n",
       "      <th>Flesch-Kincaid-Grade-Level</th>\n",
       "      <th>Automated Readability Index</th>\n",
       "      <th>SMOG Readability</th>\n",
       "      <th>New Dale-Chall Readability Formula</th>\n",
       "      <th>CAREC</th>\n",
       "      <th>CAREC_M</th>\n",
       "      <th>CARES</th>\n",
       "      <th>CML2RI</th>\n",
       "      <th>len_char</th>\n",
       "      <th>punctuation_ratio</th>\n",
       "      <th>avg_sentence_len</th>\n",
       "    </tr>\n",
       "  </thead>\n",
       "  <tbody>\n",
       "    <tr>\n",
       "      <th>0</th>\n",
       "      <td>When the young people returned to the ballroom...</td>\n",
       "      <td>174</td>\n",
       "      <td>179</td>\n",
       "      <td>1</td>\n",
       "      <td>11</td>\n",
       "      <td>11</td>\n",
       "      <td>6</td>\n",
       "      <td>-0.340259</td>\n",
       "      <td>81.70</td>\n",
       "      <td>5.95</td>\n",
       "      <td>7.37</td>\n",
       "      <td>8.0</td>\n",
       "      <td>6.55</td>\n",
       "      <td>0.12102</td>\n",
       "      <td>0.11952</td>\n",
       "      <td>0.457534</td>\n",
       "      <td>12.097815</td>\n",
       "      <td>992</td>\n",
       "      <td>0.027218</td>\n",
       "      <td>16.272727</td>\n",
       "    </tr>\n",
       "    <tr>\n",
       "      <th>1</th>\n",
       "      <td>All through dinner time, Mrs. Fayre was somewh...</td>\n",
       "      <td>164</td>\n",
       "      <td>184</td>\n",
       "      <td>0</td>\n",
       "      <td>15</td>\n",
       "      <td>15</td>\n",
       "      <td>6</td>\n",
       "      <td>-0.315372</td>\n",
       "      <td>80.26</td>\n",
       "      <td>4.86</td>\n",
       "      <td>4.16</td>\n",
       "      <td>7.0</td>\n",
       "      <td>6.25</td>\n",
       "      <td>0.04921</td>\n",
       "      <td>0.04921</td>\n",
       "      <td>0.462510</td>\n",
       "      <td>22.550179</td>\n",
       "      <td>937</td>\n",
       "      <td>0.059765</td>\n",
       "      <td>10.235294</td>\n",
       "    </tr>\n",
       "    <tr>\n",
       "      <th>2</th>\n",
       "      <td>As Roger had predicted, the snow departed as q...</td>\n",
       "      <td>162</td>\n",
       "      <td>180</td>\n",
       "      <td>0</td>\n",
       "      <td>11</td>\n",
       "      <td>11</td>\n",
       "      <td>5</td>\n",
       "      <td>-0.580118</td>\n",
       "      <td>79.04</td>\n",
       "      <td>6.03</td>\n",
       "      <td>5.81</td>\n",
       "      <td>9.0</td>\n",
       "      <td>7.31</td>\n",
       "      <td>0.10172</td>\n",
       "      <td>0.09724</td>\n",
       "      <td>0.369259</td>\n",
       "      <td>18.125279</td>\n",
       "      <td>908</td>\n",
       "      <td>0.051762</td>\n",
       "      <td>13.076923</td>\n",
       "    </tr>\n",
       "    <tr>\n",
       "      <th>3</th>\n",
       "      <td>Mr. Grimes was to come up next morning to Sir ...</td>\n",
       "      <td>159</td>\n",
       "      <td>160</td>\n",
       "      <td>0</td>\n",
       "      <td>3</td>\n",
       "      <td>3</td>\n",
       "      <td>1</td>\n",
       "      <td>-1.785965</td>\n",
       "      <td>44.77</td>\n",
       "      <td>20.51</td>\n",
       "      <td>24.87</td>\n",
       "      <td>12.0</td>\n",
       "      <td>8.56</td>\n",
       "      <td>0.07491</td>\n",
       "      <td>0.08856</td>\n",
       "      <td>0.390759</td>\n",
       "      <td>10.959460</td>\n",
       "      <td>848</td>\n",
       "      <td>0.036557</td>\n",
       "      <td>39.750000</td>\n",
       "    </tr>\n",
       "    <tr>\n",
       "      <th>4</th>\n",
       "      <td>And outside before the palace a great garden w...</td>\n",
       "      <td>163</td>\n",
       "      <td>164</td>\n",
       "      <td>1</td>\n",
       "      <td>5</td>\n",
       "      <td>5</td>\n",
       "      <td>2</td>\n",
       "      <td>-1.054013</td>\n",
       "      <td>68.07</td>\n",
       "      <td>12.06</td>\n",
       "      <td>15.47</td>\n",
       "      <td>8.0</td>\n",
       "      <td>7.00</td>\n",
       "      <td>0.06356</td>\n",
       "      <td>0.08798</td>\n",
       "      <td>0.389226</td>\n",
       "      <td>3.195960</td>\n",
       "      <td>909</td>\n",
       "      <td>0.036304</td>\n",
       "      <td>32.800000</td>\n",
       "    </tr>\n",
       "  </tbody>\n",
       "</table>\n",
       "</div>"
      ],
      "text/plain": [
       "                                             Excerpt  Google\\nWC  Joon\\nWC v1  \\\n",
       "0  When the young people returned to the ballroom...         174          179   \n",
       "1  All through dinner time, Mrs. Fayre was somewh...         164          184   \n",
       "2  As Roger had predicted, the snow departed as q...         162          180   \n",
       "3  Mr. Grimes was to come up next morning to Sir ...         159          160   \n",
       "4  And outside before the palace a great garden w...         163          164   \n",
       "\n",
       "   British WC  Sentence\\nCount v1  Sentence\\nCount v2  Paragraphs  \\\n",
       "0           1                  11                  11           6   \n",
       "1           0                  15                  15           6   \n",
       "2           0                  11                  11           5   \n",
       "3           0                   3                   3           1   \n",
       "4           1                   5                   5           2   \n",
       "\n",
       "   BT Easiness  Flesch-Reading-Ease  Flesch-Kincaid-Grade-Level  \\\n",
       "0    -0.340259                81.70                        5.95   \n",
       "1    -0.315372                80.26                        4.86   \n",
       "2    -0.580118                79.04                        6.03   \n",
       "3    -1.785965                44.77                       20.51   \n",
       "4    -1.054013                68.07                       12.06   \n",
       "\n",
       "   Automated Readability Index  SMOG Readability  \\\n",
       "0                         7.37               8.0   \n",
       "1                         4.16               7.0   \n",
       "2                         5.81               9.0   \n",
       "3                        24.87              12.0   \n",
       "4                        15.47               8.0   \n",
       "\n",
       "   New Dale-Chall Readability Formula    CAREC  CAREC_M     CARES     CML2RI  \\\n",
       "0                                6.55  0.12102  0.11952  0.457534  12.097815   \n",
       "1                                6.25  0.04921  0.04921  0.462510  22.550179   \n",
       "2                                7.31  0.10172  0.09724  0.369259  18.125279   \n",
       "3                                8.56  0.07491  0.08856  0.390759  10.959460   \n",
       "4                                7.00  0.06356  0.08798  0.389226   3.195960   \n",
       "\n",
       "   len_char  punctuation_ratio  avg_sentence_len  \n",
       "0       992           0.027218         16.272727  \n",
       "1       937           0.059765         10.235294  \n",
       "2       908           0.051762         13.076923  \n",
       "3       848           0.036557         39.750000  \n",
       "4       909           0.036304         32.800000  "
      ]
     },
     "execution_count": 21,
     "metadata": {},
     "output_type": "execute_result"
    }
   ],
   "source": [
    "df['avg_sentence_len'] = df['Excerpt'].apply(sentence_len)\n",
    "\n",
    "df.head()\n"
   ]
  },
  {
   "cell_type": "markdown",
   "metadata": {},
   "source": [
    "### Adding average word lenght in chars"
   ]
  },
  {
   "cell_type": "code",
   "execution_count": 22,
   "metadata": {},
   "outputs": [],
   "source": [
    "def avg_word_lenght(x):\n",
    "\n",
    "    punctuation = string.punctuation\n",
    "    for punc in punctuation:\n",
    "        x = x.replace(punc,' ')\n",
    "\n",
    "    words = x.split(' ')\n",
    "\n",
    "    words = [word for word in words if len(word) > 0]\n",
    "\n",
    "    word_len = [len(word) for word in words]\n",
    "\n",
    "    return np.mean(word_len)\n"
   ]
  },
  {
   "cell_type": "code",
   "execution_count": 23,
   "metadata": {},
   "outputs": [
    {
     "data": {
      "text/html": [
       "<div>\n",
       "<style scoped>\n",
       "    .dataframe tbody tr th:only-of-type {\n",
       "        vertical-align: middle;\n",
       "    }\n",
       "\n",
       "    .dataframe tbody tr th {\n",
       "        vertical-align: top;\n",
       "    }\n",
       "\n",
       "    .dataframe thead th {\n",
       "        text-align: right;\n",
       "    }\n",
       "</style>\n",
       "<table border=\"1\" class=\"dataframe\">\n",
       "  <thead>\n",
       "    <tr style=\"text-align: right;\">\n",
       "      <th></th>\n",
       "      <th>Excerpt</th>\n",
       "      <th>Google\\nWC</th>\n",
       "      <th>Joon\\nWC v1</th>\n",
       "      <th>British WC</th>\n",
       "      <th>Sentence\\nCount v1</th>\n",
       "      <th>Sentence\\nCount v2</th>\n",
       "      <th>Paragraphs</th>\n",
       "      <th>BT Easiness</th>\n",
       "      <th>Flesch-Reading-Ease</th>\n",
       "      <th>Flesch-Kincaid-Grade-Level</th>\n",
       "      <th>...</th>\n",
       "      <th>SMOG Readability</th>\n",
       "      <th>New Dale-Chall Readability Formula</th>\n",
       "      <th>CAREC</th>\n",
       "      <th>CAREC_M</th>\n",
       "      <th>CARES</th>\n",
       "      <th>CML2RI</th>\n",
       "      <th>len_char</th>\n",
       "      <th>punctuation_ratio</th>\n",
       "      <th>avg_sentence_len</th>\n",
       "      <th>avg_word_len</th>\n",
       "    </tr>\n",
       "  </thead>\n",
       "  <tbody>\n",
       "    <tr>\n",
       "      <th>0</th>\n",
       "      <td>When the young people returned to the ballroom...</td>\n",
       "      <td>174</td>\n",
       "      <td>179</td>\n",
       "      <td>1</td>\n",
       "      <td>11</td>\n",
       "      <td>11</td>\n",
       "      <td>6</td>\n",
       "      <td>-0.340259</td>\n",
       "      <td>81.70</td>\n",
       "      <td>5.95</td>\n",
       "      <td>...</td>\n",
       "      <td>8.0</td>\n",
       "      <td>6.55</td>\n",
       "      <td>0.12102</td>\n",
       "      <td>0.11952</td>\n",
       "      <td>0.457534</td>\n",
       "      <td>12.097815</td>\n",
       "      <td>992</td>\n",
       "      <td>0.027218</td>\n",
       "      <td>16.272727</td>\n",
       "      <td>4.375691</td>\n",
       "    </tr>\n",
       "    <tr>\n",
       "      <th>1</th>\n",
       "      <td>All through dinner time, Mrs. Fayre was somewh...</td>\n",
       "      <td>164</td>\n",
       "      <td>184</td>\n",
       "      <td>0</td>\n",
       "      <td>15</td>\n",
       "      <td>15</td>\n",
       "      <td>6</td>\n",
       "      <td>-0.315372</td>\n",
       "      <td>80.26</td>\n",
       "      <td>4.86</td>\n",
       "      <td>...</td>\n",
       "      <td>7.0</td>\n",
       "      <td>6.25</td>\n",
       "      <td>0.04921</td>\n",
       "      <td>0.04921</td>\n",
       "      <td>0.462510</td>\n",
       "      <td>22.550179</td>\n",
       "      <td>937</td>\n",
       "      <td>0.059765</td>\n",
       "      <td>10.235294</td>\n",
       "      <td>4.102857</td>\n",
       "    </tr>\n",
       "    <tr>\n",
       "      <th>2</th>\n",
       "      <td>As Roger had predicted, the snow departed as q...</td>\n",
       "      <td>162</td>\n",
       "      <td>180</td>\n",
       "      <td>0</td>\n",
       "      <td>11</td>\n",
       "      <td>11</td>\n",
       "      <td>5</td>\n",
       "      <td>-0.580118</td>\n",
       "      <td>79.04</td>\n",
       "      <td>6.03</td>\n",
       "      <td>...</td>\n",
       "      <td>9.0</td>\n",
       "      <td>7.31</td>\n",
       "      <td>0.10172</td>\n",
       "      <td>0.09724</td>\n",
       "      <td>0.369259</td>\n",
       "      <td>18.125279</td>\n",
       "      <td>908</td>\n",
       "      <td>0.051762</td>\n",
       "      <td>13.076923</td>\n",
       "      <td>4.000000</td>\n",
       "    </tr>\n",
       "    <tr>\n",
       "      <th>3</th>\n",
       "      <td>Mr. Grimes was to come up next morning to Sir ...</td>\n",
       "      <td>159</td>\n",
       "      <td>160</td>\n",
       "      <td>0</td>\n",
       "      <td>3</td>\n",
       "      <td>3</td>\n",
       "      <td>1</td>\n",
       "      <td>-1.785965</td>\n",
       "      <td>44.77</td>\n",
       "      <td>20.51</td>\n",
       "      <td>...</td>\n",
       "      <td>12.0</td>\n",
       "      <td>8.56</td>\n",
       "      <td>0.07491</td>\n",
       "      <td>0.08856</td>\n",
       "      <td>0.390759</td>\n",
       "      <td>10.959460</td>\n",
       "      <td>848</td>\n",
       "      <td>0.036557</td>\n",
       "      <td>39.750000</td>\n",
       "      <td>4.018293</td>\n",
       "    </tr>\n",
       "    <tr>\n",
       "      <th>4</th>\n",
       "      <td>And outside before the palace a great garden w...</td>\n",
       "      <td>163</td>\n",
       "      <td>164</td>\n",
       "      <td>1</td>\n",
       "      <td>5</td>\n",
       "      <td>5</td>\n",
       "      <td>2</td>\n",
       "      <td>-1.054013</td>\n",
       "      <td>68.07</td>\n",
       "      <td>12.06</td>\n",
       "      <td>...</td>\n",
       "      <td>8.0</td>\n",
       "      <td>7.00</td>\n",
       "      <td>0.06356</td>\n",
       "      <td>0.08798</td>\n",
       "      <td>0.389226</td>\n",
       "      <td>3.195960</td>\n",
       "      <td>909</td>\n",
       "      <td>0.036304</td>\n",
       "      <td>32.800000</td>\n",
       "      <td>4.275449</td>\n",
       "    </tr>\n",
       "  </tbody>\n",
       "</table>\n",
       "<p>5 rows × 21 columns</p>\n",
       "</div>"
      ],
      "text/plain": [
       "                                             Excerpt  Google\\nWC  Joon\\nWC v1  \\\n",
       "0  When the young people returned to the ballroom...         174          179   \n",
       "1  All through dinner time, Mrs. Fayre was somewh...         164          184   \n",
       "2  As Roger had predicted, the snow departed as q...         162          180   \n",
       "3  Mr. Grimes was to come up next morning to Sir ...         159          160   \n",
       "4  And outside before the palace a great garden w...         163          164   \n",
       "\n",
       "   British WC  Sentence\\nCount v1  Sentence\\nCount v2  Paragraphs  \\\n",
       "0           1                  11                  11           6   \n",
       "1           0                  15                  15           6   \n",
       "2           0                  11                  11           5   \n",
       "3           0                   3                   3           1   \n",
       "4           1                   5                   5           2   \n",
       "\n",
       "   BT Easiness  Flesch-Reading-Ease  Flesch-Kincaid-Grade-Level  ...  \\\n",
       "0    -0.340259                81.70                        5.95  ...   \n",
       "1    -0.315372                80.26                        4.86  ...   \n",
       "2    -0.580118                79.04                        6.03  ...   \n",
       "3    -1.785965                44.77                       20.51  ...   \n",
       "4    -1.054013                68.07                       12.06  ...   \n",
       "\n",
       "   SMOG Readability  New Dale-Chall Readability Formula    CAREC  CAREC_M  \\\n",
       "0               8.0                                6.55  0.12102  0.11952   \n",
       "1               7.0                                6.25  0.04921  0.04921   \n",
       "2               9.0                                7.31  0.10172  0.09724   \n",
       "3              12.0                                8.56  0.07491  0.08856   \n",
       "4               8.0                                7.00  0.06356  0.08798   \n",
       "\n",
       "      CARES     CML2RI  len_char  punctuation_ratio  avg_sentence_len  \\\n",
       "0  0.457534  12.097815       992           0.027218         16.272727   \n",
       "1  0.462510  22.550179       937           0.059765         10.235294   \n",
       "2  0.369259  18.125279       908           0.051762         13.076923   \n",
       "3  0.390759  10.959460       848           0.036557         39.750000   \n",
       "4  0.389226   3.195960       909           0.036304         32.800000   \n",
       "\n",
       "   avg_word_len  \n",
       "0      4.375691  \n",
       "1      4.102857  \n",
       "2      4.000000  \n",
       "3      4.018293  \n",
       "4      4.275449  \n",
       "\n",
       "[5 rows x 21 columns]"
      ]
     },
     "execution_count": 23,
     "metadata": {},
     "output_type": "execute_result"
    }
   ],
   "source": [
    "df['avg_word_len'] = df['Excerpt'].apply(avg_word_lenght)\n",
    "\n",
    "df.head()\n"
   ]
  },
  {
   "cell_type": "markdown",
   "metadata": {},
   "source": [
    "### Adding Average Number of Words per Sentence"
   ]
  },
  {
   "cell_type": "code",
   "execution_count": 24,
   "metadata": {},
   "outputs": [
    {
     "data": {
      "text/html": [
       "<div>\n",
       "<style scoped>\n",
       "    .dataframe tbody tr th:only-of-type {\n",
       "        vertical-align: middle;\n",
       "    }\n",
       "\n",
       "    .dataframe tbody tr th {\n",
       "        vertical-align: top;\n",
       "    }\n",
       "\n",
       "    .dataframe thead th {\n",
       "        text-align: right;\n",
       "    }\n",
       "</style>\n",
       "<table border=\"1\" class=\"dataframe\">\n",
       "  <thead>\n",
       "    <tr style=\"text-align: right;\">\n",
       "      <th></th>\n",
       "      <th>Excerpt</th>\n",
       "      <th>Google\\nWC</th>\n",
       "      <th>Joon\\nWC v1</th>\n",
       "      <th>British WC</th>\n",
       "      <th>Sentence\\nCount v1</th>\n",
       "      <th>Sentence\\nCount v2</th>\n",
       "      <th>Paragraphs</th>\n",
       "      <th>BT Easiness</th>\n",
       "      <th>Flesch-Reading-Ease</th>\n",
       "      <th>Flesch-Kincaid-Grade-Level</th>\n",
       "      <th>...</th>\n",
       "      <th>New Dale-Chall Readability Formula</th>\n",
       "      <th>CAREC</th>\n",
       "      <th>CAREC_M</th>\n",
       "      <th>CARES</th>\n",
       "      <th>CML2RI</th>\n",
       "      <th>len_char</th>\n",
       "      <th>punctuation_ratio</th>\n",
       "      <th>avg_sentence_len</th>\n",
       "      <th>avg_word_len</th>\n",
       "      <th>avg_word_sent</th>\n",
       "    </tr>\n",
       "  </thead>\n",
       "  <tbody>\n",
       "    <tr>\n",
       "      <th>0</th>\n",
       "      <td>When the young people returned to the ballroom...</td>\n",
       "      <td>174</td>\n",
       "      <td>179</td>\n",
       "      <td>1</td>\n",
       "      <td>11</td>\n",
       "      <td>11</td>\n",
       "      <td>6</td>\n",
       "      <td>-0.340259</td>\n",
       "      <td>81.70</td>\n",
       "      <td>5.95</td>\n",
       "      <td>...</td>\n",
       "      <td>6.55</td>\n",
       "      <td>0.12102</td>\n",
       "      <td>0.11952</td>\n",
       "      <td>0.457534</td>\n",
       "      <td>12.097815</td>\n",
       "      <td>992</td>\n",
       "      <td>0.027218</td>\n",
       "      <td>16.272727</td>\n",
       "      <td>4.375691</td>\n",
       "      <td>15.818182</td>\n",
       "    </tr>\n",
       "    <tr>\n",
       "      <th>1</th>\n",
       "      <td>All through dinner time, Mrs. Fayre was somewh...</td>\n",
       "      <td>164</td>\n",
       "      <td>184</td>\n",
       "      <td>0</td>\n",
       "      <td>15</td>\n",
       "      <td>15</td>\n",
       "      <td>6</td>\n",
       "      <td>-0.315372</td>\n",
       "      <td>80.26</td>\n",
       "      <td>4.86</td>\n",
       "      <td>...</td>\n",
       "      <td>6.25</td>\n",
       "      <td>0.04921</td>\n",
       "      <td>0.04921</td>\n",
       "      <td>0.462510</td>\n",
       "      <td>22.550179</td>\n",
       "      <td>937</td>\n",
       "      <td>0.059765</td>\n",
       "      <td>10.235294</td>\n",
       "      <td>4.102857</td>\n",
       "      <td>10.933333</td>\n",
       "    </tr>\n",
       "    <tr>\n",
       "      <th>2</th>\n",
       "      <td>As Roger had predicted, the snow departed as q...</td>\n",
       "      <td>162</td>\n",
       "      <td>180</td>\n",
       "      <td>0</td>\n",
       "      <td>11</td>\n",
       "      <td>11</td>\n",
       "      <td>5</td>\n",
       "      <td>-0.580118</td>\n",
       "      <td>79.04</td>\n",
       "      <td>6.03</td>\n",
       "      <td>...</td>\n",
       "      <td>7.31</td>\n",
       "      <td>0.10172</td>\n",
       "      <td>0.09724</td>\n",
       "      <td>0.369259</td>\n",
       "      <td>18.125279</td>\n",
       "      <td>908</td>\n",
       "      <td>0.051762</td>\n",
       "      <td>13.076923</td>\n",
       "      <td>4.000000</td>\n",
       "      <td>14.727273</td>\n",
       "    </tr>\n",
       "    <tr>\n",
       "      <th>3</th>\n",
       "      <td>Mr. Grimes was to come up next morning to Sir ...</td>\n",
       "      <td>159</td>\n",
       "      <td>160</td>\n",
       "      <td>0</td>\n",
       "      <td>3</td>\n",
       "      <td>3</td>\n",
       "      <td>1</td>\n",
       "      <td>-1.785965</td>\n",
       "      <td>44.77</td>\n",
       "      <td>20.51</td>\n",
       "      <td>...</td>\n",
       "      <td>8.56</td>\n",
       "      <td>0.07491</td>\n",
       "      <td>0.08856</td>\n",
       "      <td>0.390759</td>\n",
       "      <td>10.959460</td>\n",
       "      <td>848</td>\n",
       "      <td>0.036557</td>\n",
       "      <td>39.750000</td>\n",
       "      <td>4.018293</td>\n",
       "      <td>53.000000</td>\n",
       "    </tr>\n",
       "    <tr>\n",
       "      <th>4</th>\n",
       "      <td>And outside before the palace a great garden w...</td>\n",
       "      <td>163</td>\n",
       "      <td>164</td>\n",
       "      <td>1</td>\n",
       "      <td>5</td>\n",
       "      <td>5</td>\n",
       "      <td>2</td>\n",
       "      <td>-1.054013</td>\n",
       "      <td>68.07</td>\n",
       "      <td>12.06</td>\n",
       "      <td>...</td>\n",
       "      <td>7.00</td>\n",
       "      <td>0.06356</td>\n",
       "      <td>0.08798</td>\n",
       "      <td>0.389226</td>\n",
       "      <td>3.195960</td>\n",
       "      <td>909</td>\n",
       "      <td>0.036304</td>\n",
       "      <td>32.800000</td>\n",
       "      <td>4.275449</td>\n",
       "      <td>32.600000</td>\n",
       "    </tr>\n",
       "  </tbody>\n",
       "</table>\n",
       "<p>5 rows × 22 columns</p>\n",
       "</div>"
      ],
      "text/plain": [
       "                                             Excerpt  Google\\nWC  Joon\\nWC v1  \\\n",
       "0  When the young people returned to the ballroom...         174          179   \n",
       "1  All through dinner time, Mrs. Fayre was somewh...         164          184   \n",
       "2  As Roger had predicted, the snow departed as q...         162          180   \n",
       "3  Mr. Grimes was to come up next morning to Sir ...         159          160   \n",
       "4  And outside before the palace a great garden w...         163          164   \n",
       "\n",
       "   British WC  Sentence\\nCount v1  Sentence\\nCount v2  Paragraphs  \\\n",
       "0           1                  11                  11           6   \n",
       "1           0                  15                  15           6   \n",
       "2           0                  11                  11           5   \n",
       "3           0                   3                   3           1   \n",
       "4           1                   5                   5           2   \n",
       "\n",
       "   BT Easiness  Flesch-Reading-Ease  Flesch-Kincaid-Grade-Level  ...  \\\n",
       "0    -0.340259                81.70                        5.95  ...   \n",
       "1    -0.315372                80.26                        4.86  ...   \n",
       "2    -0.580118                79.04                        6.03  ...   \n",
       "3    -1.785965                44.77                       20.51  ...   \n",
       "4    -1.054013                68.07                       12.06  ...   \n",
       "\n",
       "   New Dale-Chall Readability Formula    CAREC  CAREC_M     CARES     CML2RI  \\\n",
       "0                                6.55  0.12102  0.11952  0.457534  12.097815   \n",
       "1                                6.25  0.04921  0.04921  0.462510  22.550179   \n",
       "2                                7.31  0.10172  0.09724  0.369259  18.125279   \n",
       "3                                8.56  0.07491  0.08856  0.390759  10.959460   \n",
       "4                                7.00  0.06356  0.08798  0.389226   3.195960   \n",
       "\n",
       "   len_char  punctuation_ratio  avg_sentence_len  avg_word_len  avg_word_sent  \n",
       "0       992           0.027218         16.272727      4.375691      15.818182  \n",
       "1       937           0.059765         10.235294      4.102857      10.933333  \n",
       "2       908           0.051762         13.076923      4.000000      14.727273  \n",
       "3       848           0.036557         39.750000      4.018293      53.000000  \n",
       "4       909           0.036304         32.800000      4.275449      32.600000  \n",
       "\n",
       "[5 rows x 22 columns]"
      ]
     },
     "execution_count": 24,
     "metadata": {},
     "output_type": "execute_result"
    }
   ],
   "source": [
    "df['avg_word_sent'] = df['Google\\nWC']/df['Sentence\\nCount v1']\n",
    "df.head()\n"
   ]
  },
  {
   "cell_type": "markdown",
   "metadata": {},
   "source": [
    "### Adding Lexical Diversity Scores"
   ]
  },
  {
   "cell_type": "code",
   "execution_count": null,
   "metadata": {},
   "outputs": [],
   "source": []
  },
  {
   "cell_type": "markdown",
   "metadata": {},
   "source": [
    "### Adding Morphological Information"
   ]
  },
  {
   "cell_type": "markdown",
   "metadata": {},
   "source": [
    "# Preliminary Cleaning"
   ]
  },
  {
   "cell_type": "markdown",
   "metadata": {},
   "source": [
    "## Drop Duplicates"
   ]
  },
  {
   "cell_type": "code",
   "execution_count": 25,
   "metadata": {},
   "outputs": [
    {
     "data": {
      "text/plain": [
       "0"
      ]
     },
     "execution_count": 25,
     "metadata": {},
     "output_type": "execute_result"
    }
   ],
   "source": [
    "df.duplicated().sum()\n"
   ]
  },
  {
   "cell_type": "markdown",
   "metadata": {},
   "source": [
    "#### No duplicates found"
   ]
  },
  {
   "cell_type": "markdown",
   "metadata": {},
   "source": [
    "## Missing Values"
   ]
  },
  {
   "cell_type": "markdown",
   "metadata": {},
   "source": [
    "#### no missing values in the selected features"
   ]
  },
  {
   "cell_type": "code",
   "execution_count": 26,
   "metadata": {},
   "outputs": [
    {
     "data": {
      "text/plain": [
       "Excerpt                               0\n",
       "Google\\nWC                            0\n",
       "avg_word_len                          0\n",
       "avg_sentence_len                      0\n",
       "punctuation_ratio                     0\n",
       "len_char                              0\n",
       "CML2RI                                0\n",
       "CARES                                 0\n",
       "CAREC_M                               0\n",
       "CAREC                                 0\n",
       "New Dale-Chall Readability Formula    0\n",
       "SMOG Readability                      0\n",
       "Automated Readability Index           0\n",
       "Flesch-Kincaid-Grade-Level            0\n",
       "Flesch-Reading-Ease                   0\n",
       "BT Easiness                           0\n",
       "Paragraphs                            0\n",
       "Sentence\\nCount v2                    0\n",
       "Sentence\\nCount v1                    0\n",
       "British WC                            0\n",
       "Joon\\nWC v1                           0\n",
       "avg_word_sent                         0\n",
       "dtype: int64"
      ]
     },
     "execution_count": 26,
     "metadata": {},
     "output_type": "execute_result"
    }
   ],
   "source": [
    "# Counting the number of NaN for each column\n",
    "df.isnull().sum().sort_values(ascending=False)\n"
   ]
  },
  {
   "cell_type": "markdown",
   "metadata": {},
   "source": [
    "## checking outliers"
   ]
  },
  {
   "cell_type": "markdown",
   "metadata": {},
   "source": [
    "#### let's start with standard scaling, otherwise we can check also robust"
   ]
  },
  {
   "cell_type": "code",
   "execution_count": 27,
   "metadata": {},
   "outputs": [],
   "source": [
    "numerical_df = df.select_dtypes(include=['int64', 'float64'])\n"
   ]
  },
  {
   "cell_type": "code",
   "execution_count": 28,
   "metadata": {},
   "outputs": [],
   "source": [
    "# # checking outliers with boxplots\n",
    "# for column in numerical_df.columns:\n",
    "#     plt.figure()  # Create a new figure\n",
    "#     numerical_df[[column]].boxplot()\n",
    "#     plt.title(column)  # Optional: adds a title to each plot\n",
    "#     plt.show()\n"
   ]
  },
  {
   "cell_type": "markdown",
   "metadata": {},
   "source": [
    "# Discretizing Target"
   ]
  },
  {
   "cell_type": "markdown",
   "metadata": {},
   "source": [
    "#### discretizing target in two categories 0 = Hard and 1 = Easy"
   ]
  },
  {
   "cell_type": "code",
   "execution_count": 29,
   "metadata": {},
   "outputs": [
    {
     "data": {
      "text/plain": [
       "[-3.676267773,\n",
       " -2.0329096932509003,\n",
       " -1.409577679951,\n",
       " -0.9090941785,\n",
       " -0.46278055254539985,\n",
       " 0.08201879812629961,\n",
       " 1.711389827]"
      ]
     },
     "execution_count": 29,
     "metadata": {},
     "output_type": "execute_result"
    }
   ],
   "source": [
    "# Calculating quantiles for bin edges - 7 edges for 6 bins\n",
    "quantiles = df['BT Easiness'].quantile([0, 0.1667, 0.3333, 0.5, 0.6667, 0.8333, 1]).tolist()\n",
    "quantiles\n"
   ]
  },
  {
   "cell_type": "code",
   "execution_count": 30,
   "metadata": {},
   "outputs": [
    {
     "data": {
      "text/html": [
       "<div>\n",
       "<style scoped>\n",
       "    .dataframe tbody tr th:only-of-type {\n",
       "        vertical-align: middle;\n",
       "    }\n",
       "\n",
       "    .dataframe tbody tr th {\n",
       "        vertical-align: top;\n",
       "    }\n",
       "\n",
       "    .dataframe thead th {\n",
       "        text-align: right;\n",
       "    }\n",
       "</style>\n",
       "<table border=\"1\" class=\"dataframe\">\n",
       "  <thead>\n",
       "    <tr style=\"text-align: right;\">\n",
       "      <th></th>\n",
       "      <th>Excerpt</th>\n",
       "      <th>Google\\nWC</th>\n",
       "      <th>Joon\\nWC v1</th>\n",
       "      <th>British WC</th>\n",
       "      <th>Sentence\\nCount v1</th>\n",
       "      <th>Sentence\\nCount v2</th>\n",
       "      <th>Paragraphs</th>\n",
       "      <th>BT Easiness</th>\n",
       "      <th>Flesch-Reading-Ease</th>\n",
       "      <th>Flesch-Kincaid-Grade-Level</th>\n",
       "      <th>...</th>\n",
       "      <th>New Dale-Chall Readability Formula</th>\n",
       "      <th>CAREC</th>\n",
       "      <th>CAREC_M</th>\n",
       "      <th>CARES</th>\n",
       "      <th>CML2RI</th>\n",
       "      <th>len_char</th>\n",
       "      <th>punctuation_ratio</th>\n",
       "      <th>avg_sentence_len</th>\n",
       "      <th>avg_word_len</th>\n",
       "      <th>avg_word_sent</th>\n",
       "    </tr>\n",
       "  </thead>\n",
       "  <tbody>\n",
       "    <tr>\n",
       "      <th>0</th>\n",
       "      <td>When the young people returned to the ballroom...</td>\n",
       "      <td>174</td>\n",
       "      <td>179</td>\n",
       "      <td>1</td>\n",
       "      <td>11</td>\n",
       "      <td>11</td>\n",
       "      <td>6</td>\n",
       "      <td>4</td>\n",
       "      <td>81.70</td>\n",
       "      <td>5.95</td>\n",
       "      <td>...</td>\n",
       "      <td>6.55</td>\n",
       "      <td>0.12102</td>\n",
       "      <td>0.11952</td>\n",
       "      <td>0.457534</td>\n",
       "      <td>12.097815</td>\n",
       "      <td>992</td>\n",
       "      <td>0.027218</td>\n",
       "      <td>16.272727</td>\n",
       "      <td>4.375691</td>\n",
       "      <td>15.818182</td>\n",
       "    </tr>\n",
       "    <tr>\n",
       "      <th>1</th>\n",
       "      <td>All through dinner time, Mrs. Fayre was somewh...</td>\n",
       "      <td>164</td>\n",
       "      <td>184</td>\n",
       "      <td>0</td>\n",
       "      <td>15</td>\n",
       "      <td>15</td>\n",
       "      <td>6</td>\n",
       "      <td>4</td>\n",
       "      <td>80.26</td>\n",
       "      <td>4.86</td>\n",
       "      <td>...</td>\n",
       "      <td>6.25</td>\n",
       "      <td>0.04921</td>\n",
       "      <td>0.04921</td>\n",
       "      <td>0.462510</td>\n",
       "      <td>22.550179</td>\n",
       "      <td>937</td>\n",
       "      <td>0.059765</td>\n",
       "      <td>10.235294</td>\n",
       "      <td>4.102857</td>\n",
       "      <td>10.933333</td>\n",
       "    </tr>\n",
       "    <tr>\n",
       "      <th>2</th>\n",
       "      <td>As Roger had predicted, the snow departed as q...</td>\n",
       "      <td>162</td>\n",
       "      <td>180</td>\n",
       "      <td>0</td>\n",
       "      <td>11</td>\n",
       "      <td>11</td>\n",
       "      <td>5</td>\n",
       "      <td>3</td>\n",
       "      <td>79.04</td>\n",
       "      <td>6.03</td>\n",
       "      <td>...</td>\n",
       "      <td>7.31</td>\n",
       "      <td>0.10172</td>\n",
       "      <td>0.09724</td>\n",
       "      <td>0.369259</td>\n",
       "      <td>18.125279</td>\n",
       "      <td>908</td>\n",
       "      <td>0.051762</td>\n",
       "      <td>13.076923</td>\n",
       "      <td>4.000000</td>\n",
       "      <td>14.727273</td>\n",
       "    </tr>\n",
       "    <tr>\n",
       "      <th>3</th>\n",
       "      <td>Mr. Grimes was to come up next morning to Sir ...</td>\n",
       "      <td>159</td>\n",
       "      <td>160</td>\n",
       "      <td>0</td>\n",
       "      <td>3</td>\n",
       "      <td>3</td>\n",
       "      <td>1</td>\n",
       "      <td>1</td>\n",
       "      <td>44.77</td>\n",
       "      <td>20.51</td>\n",
       "      <td>...</td>\n",
       "      <td>8.56</td>\n",
       "      <td>0.07491</td>\n",
       "      <td>0.08856</td>\n",
       "      <td>0.390759</td>\n",
       "      <td>10.959460</td>\n",
       "      <td>848</td>\n",
       "      <td>0.036557</td>\n",
       "      <td>39.750000</td>\n",
       "      <td>4.018293</td>\n",
       "      <td>53.000000</td>\n",
       "    </tr>\n",
       "    <tr>\n",
       "      <th>4</th>\n",
       "      <td>And outside before the palace a great garden w...</td>\n",
       "      <td>163</td>\n",
       "      <td>164</td>\n",
       "      <td>1</td>\n",
       "      <td>5</td>\n",
       "      <td>5</td>\n",
       "      <td>2</td>\n",
       "      <td>2</td>\n",
       "      <td>68.07</td>\n",
       "      <td>12.06</td>\n",
       "      <td>...</td>\n",
       "      <td>7.00</td>\n",
       "      <td>0.06356</td>\n",
       "      <td>0.08798</td>\n",
       "      <td>0.389226</td>\n",
       "      <td>3.195960</td>\n",
       "      <td>909</td>\n",
       "      <td>0.036304</td>\n",
       "      <td>32.800000</td>\n",
       "      <td>4.275449</td>\n",
       "      <td>32.600000</td>\n",
       "    </tr>\n",
       "  </tbody>\n",
       "</table>\n",
       "<p>5 rows × 22 columns</p>\n",
       "</div>"
      ],
      "text/plain": [
       "                                             Excerpt  Google\\nWC  Joon\\nWC v1  \\\n",
       "0  When the young people returned to the ballroom...         174          179   \n",
       "1  All through dinner time, Mrs. Fayre was somewh...         164          184   \n",
       "2  As Roger had predicted, the snow departed as q...         162          180   \n",
       "3  Mr. Grimes was to come up next morning to Sir ...         159          160   \n",
       "4  And outside before the palace a great garden w...         163          164   \n",
       "\n",
       "   British WC  Sentence\\nCount v1  Sentence\\nCount v2  Paragraphs BT Easiness  \\\n",
       "0           1                  11                  11           6           4   \n",
       "1           0                  15                  15           6           4   \n",
       "2           0                  11                  11           5           3   \n",
       "3           0                   3                   3           1           1   \n",
       "4           1                   5                   5           2           2   \n",
       "\n",
       "   Flesch-Reading-Ease  Flesch-Kincaid-Grade-Level  ...  \\\n",
       "0                81.70                        5.95  ...   \n",
       "1                80.26                        4.86  ...   \n",
       "2                79.04                        6.03  ...   \n",
       "3                44.77                       20.51  ...   \n",
       "4                68.07                       12.06  ...   \n",
       "\n",
       "   New Dale-Chall Readability Formula    CAREC  CAREC_M     CARES     CML2RI  \\\n",
       "0                                6.55  0.12102  0.11952  0.457534  12.097815   \n",
       "1                                6.25  0.04921  0.04921  0.462510  22.550179   \n",
       "2                                7.31  0.10172  0.09724  0.369259  18.125279   \n",
       "3                                8.56  0.07491  0.08856  0.390759  10.959460   \n",
       "4                                7.00  0.06356  0.08798  0.389226   3.195960   \n",
       "\n",
       "   len_char  punctuation_ratio  avg_sentence_len  avg_word_len  avg_word_sent  \n",
       "0       992           0.027218         16.272727      4.375691      15.818182  \n",
       "1       937           0.059765         10.235294      4.102857      10.933333  \n",
       "2       908           0.051762         13.076923      4.000000      14.727273  \n",
       "3       848           0.036557         39.750000      4.018293      53.000000  \n",
       "4       909           0.036304         32.800000      4.275449      32.600000  \n",
       "\n",
       "[5 rows x 22 columns]"
      ]
     },
     "execution_count": 30,
     "metadata": {},
     "output_type": "execute_result"
    }
   ],
   "source": [
    "# Correct number of labels for 6 bins\n",
    "labels_dict = {'very hard':0, 'hard':1, 'moderately hard':2, 'acceptable':3, 'easy':4, 'very easy':5}\n",
    "\n",
    "# Using 'quantiles' for bins and including 6 labels\n",
    "df['BT Easiness'] = pd.cut(\n",
    "    x=df['BT Easiness'],\n",
    "    bins=quantiles,\n",
    "    labels=labels_dict.values(),\n",
    "    include_lowest=True\n",
    ")\n",
    "\n",
    "# Displaying the first few rows of the DataFrame\n",
    "df.head()\n"
   ]
  },
  {
   "cell_type": "code",
   "execution_count": 31,
   "metadata": {},
   "outputs": [],
   "source": [
    "# df['BT Easiness'] = pd.cut(x = df['BT Easiness'],\n",
    "#                                  bins=[df['BT Easiness'].min()-1,\n",
    "#                                        df['BT Easiness'].mean(),\n",
    "#                                        df['BT Easiness'].max()+1],\n",
    "#                                  labels=[0, 1])\n"
   ]
  },
  {
   "cell_type": "code",
   "execution_count": 32,
   "metadata": {},
   "outputs": [
    {
     "data": {
      "text/html": [
       "<div>\n",
       "<style scoped>\n",
       "    .dataframe tbody tr th:only-of-type {\n",
       "        vertical-align: middle;\n",
       "    }\n",
       "\n",
       "    .dataframe tbody tr th {\n",
       "        vertical-align: top;\n",
       "    }\n",
       "\n",
       "    .dataframe thead th {\n",
       "        text-align: right;\n",
       "    }\n",
       "</style>\n",
       "<table border=\"1\" class=\"dataframe\">\n",
       "  <thead>\n",
       "    <tr style=\"text-align: right;\">\n",
       "      <th></th>\n",
       "      <th>Excerpt</th>\n",
       "      <th>BT Easiness</th>\n",
       "    </tr>\n",
       "  </thead>\n",
       "  <tbody>\n",
       "    <tr>\n",
       "      <th>0</th>\n",
       "      <td>When the young people returned to the ballroom...</td>\n",
       "      <td>4</td>\n",
       "    </tr>\n",
       "    <tr>\n",
       "      <th>1</th>\n",
       "      <td>All through dinner time, Mrs. Fayre was somewh...</td>\n",
       "      <td>4</td>\n",
       "    </tr>\n",
       "    <tr>\n",
       "      <th>2</th>\n",
       "      <td>As Roger had predicted, the snow departed as q...</td>\n",
       "      <td>3</td>\n",
       "    </tr>\n",
       "    <tr>\n",
       "      <th>3</th>\n",
       "      <td>Mr. Grimes was to come up next morning to Sir ...</td>\n",
       "      <td>1</td>\n",
       "    </tr>\n",
       "    <tr>\n",
       "      <th>4</th>\n",
       "      <td>And outside before the palace a great garden w...</td>\n",
       "      <td>2</td>\n",
       "    </tr>\n",
       "  </tbody>\n",
       "</table>\n",
       "</div>"
      ],
      "text/plain": [
       "                                             Excerpt BT Easiness\n",
       "0  When the young people returned to the ballroom...           4\n",
       "1  All through dinner time, Mrs. Fayre was somewh...           4\n",
       "2  As Roger had predicted, the snow departed as q...           3\n",
       "3  Mr. Grimes was to come up next morning to Sir ...           1\n",
       "4  And outside before the palace a great garden w...           2"
      ]
     },
     "execution_count": 32,
     "metadata": {},
     "output_type": "execute_result"
    }
   ],
   "source": [
    "df[['Excerpt', 'BT Easiness']].head()\n"
   ]
  },
  {
   "cell_type": "code",
   "execution_count": 33,
   "metadata": {},
   "outputs": [
    {
     "data": {
      "text/plain": [
       "BT Easiness\n",
       "0              788\n",
       "5              788\n",
       "1              787\n",
       "2              787\n",
       "3              787\n",
       "4              787\n",
       "Name: count, dtype: int64"
      ]
     },
     "execution_count": 33,
     "metadata": {},
     "output_type": "execute_result"
    }
   ],
   "source": [
    "df[['BT Easiness']].value_counts()\n"
   ]
  },
  {
   "cell_type": "markdown",
   "metadata": {},
   "source": [
    "# Train Test Split"
   ]
  },
  {
   "cell_type": "code",
   "execution_count": 34,
   "metadata": {},
   "outputs": [],
   "source": [
    "X = df.drop(columns=['BT Easiness'])\n",
    "y = df['BT Easiness']\n"
   ]
  },
  {
   "cell_type": "code",
   "execution_count": 35,
   "metadata": {},
   "outputs": [],
   "source": [
    "X_train, X_test, y_train, y_test = train_test_split(X, y, test_size=0.3, random_state=42)\n"
   ]
  },
  {
   "cell_type": "markdown",
   "metadata": {},
   "source": [
    "# Dummy Baseline Model"
   ]
  },
  {
   "cell_type": "code",
   "execution_count": 36,
   "metadata": {},
   "outputs": [
    {
     "data": {
      "text/plain": [
       "BT Easiness\n",
       "2    571\n",
       "3    557\n",
       "0    551\n",
       "1    551\n",
       "4    539\n",
       "5    537\n",
       "Name: count, dtype: int64"
      ]
     },
     "execution_count": 36,
     "metadata": {},
     "output_type": "execute_result"
    }
   ],
   "source": [
    "y_train.value_counts()\n"
   ]
  },
  {
   "cell_type": "code",
   "execution_count": 37,
   "metadata": {},
   "outputs": [
    {
     "data": {
      "text/plain": [
       "array([2, 2, 2, ..., 2, 2, 2])"
      ]
     },
     "execution_count": 37,
     "metadata": {},
     "output_type": "execute_result"
    }
   ],
   "source": [
    "y_pred = y_train.value_counts().idxmax()\n",
    "y_pred = np.full(y_test.shape, y_pred)\n",
    "y_pred\n"
   ]
  },
  {
   "cell_type": "code",
   "execution_count": 38,
   "metadata": {},
   "outputs": [
    {
     "data": {
      "text/plain": [
       "0.152327221438646"
      ]
     },
     "execution_count": 38,
     "metadata": {},
     "output_type": "execute_result"
    }
   ],
   "source": [
    "accuracy_baseline = accuracy_score(y_test, y_pred)\n",
    "accuracy_baseline\n"
   ]
  },
  {
   "cell_type": "markdown",
   "metadata": {},
   "source": [
    "# Text Preprocessing"
   ]
  },
  {
   "cell_type": "code",
   "execution_count": 39,
   "metadata": {},
   "outputs": [],
   "source": [
    "X_train_text = X_train['Excerpt'].values\n",
    "X_test_text = X_test['Excerpt'].values\n"
   ]
  },
  {
   "cell_type": "markdown",
   "metadata": {},
   "source": [
    "### Basic Cleaning"
   ]
  },
  {
   "cell_type": "code",
   "execution_count": 40,
   "metadata": {},
   "outputs": [],
   "source": [
    "def basic_cleaning(sentence):\n",
    "    sentence = sentence.lower()\n",
    "    sentence = ''.join(char for char in sentence if not char.isdigit())\n",
    "\n",
    "    # Adding special quotes to the regular expression pattern\n",
    "    special_quotes = '“”‘’'\n",
    "    pattern = '[' + re.escape(string.punctuation + special_quotes) + ']'\n",
    "\n",
    "    sentence = re.sub(pattern, '', sentence)\n",
    "    sentence = sentence.strip()\n",
    "\n",
    "    return sentence\n"
   ]
  },
  {
   "cell_type": "code",
   "execution_count": 41,
   "metadata": {},
   "outputs": [],
   "source": [
    "X_train_text = [basic_cleaning(sentence) for sentence in X_train_text]\n",
    "X_test_text = [basic_cleaning(sentence) for sentence in X_test_text]\n"
   ]
  },
  {
   "cell_type": "markdown",
   "metadata": {},
   "source": [
    "### Tokenizing"
   ]
  },
  {
   "cell_type": "code",
   "execution_count": 42,
   "metadata": {},
   "outputs": [],
   "source": [
    "def tokenizer(sentence):\n",
    "    return text_to_word_sequence(sentence)\n"
   ]
  },
  {
   "cell_type": "code",
   "execution_count": 43,
   "metadata": {},
   "outputs": [],
   "source": [
    "#tokenizing\n",
    "X_train_text = [tokenizer(sentence) for sentence in X_train_text]\n",
    "X_test_text = [tokenizer(sentence) for sentence in X_test_text]\n"
   ]
  },
  {
   "cell_type": "markdown",
   "metadata": {},
   "source": [
    "### Lemmatizing"
   ]
  },
  {
   "cell_type": "code",
   "execution_count": 44,
   "metadata": {},
   "outputs": [],
   "source": [
    "def lemmatizer(sentence):\n",
    "    wnl = WordNetLemmatizer()\n",
    "    verbs_lemmatized = []\n",
    "    for word in sentence:\n",
    "        verbs_lemmatized.append(wnl.lemmatize(word, pos = 'v'))\n",
    "    nouns_lemmatized = []\n",
    "    for word in verbs_lemmatized:\n",
    "        nouns_lemmatized.append(wnl.lemmatize(word, pos = 'n'))\n",
    "    adverbs_lemmatized = []\n",
    "    for word in nouns_lemmatized:\n",
    "        adverbs_lemmatized.append(wnl.lemmatize(word, pos = 'r'))\n",
    "    adj_lemmatized = []\n",
    "    for word in adverbs_lemmatized:\n",
    "        adj_lemmatized.append(wnl.lemmatize(word, pos = 'a'))\n",
    "    sat_lemmatized = []\n",
    "    for word in adj_lemmatized:\n",
    "        sat_lemmatized.append(wnl.lemmatize(word, pos = 'a'))\n",
    "    return sat_lemmatized\n"
   ]
  },
  {
   "cell_type": "code",
   "execution_count": 45,
   "metadata": {},
   "outputs": [],
   "source": [
    "X_train_text = [lemmatizer(sentence) for sentence in X_train_text]\n",
    "X_test_text = [lemmatizer(sentence) for sentence in X_test_text]\n"
   ]
  },
  {
   "cell_type": "markdown",
   "metadata": {},
   "source": [
    "### Removing Stopwords"
   ]
  },
  {
   "cell_type": "code",
   "execution_count": 46,
   "metadata": {},
   "outputs": [],
   "source": [
    "def removing_stopwords(sentence):\n",
    "    stop_words = set(stopwords.words('english'))\n",
    "    sentence_new = [w for w in sentence if not w in stop_words]\n",
    "    return sentence_new\n"
   ]
  },
  {
   "cell_type": "code",
   "execution_count": 47,
   "metadata": {},
   "outputs": [],
   "source": [
    "X_train_text = [removing_stopwords(sentence) for sentence in X_train_text]\n",
    "X_test_text = [removing_stopwords(sentence) for sentence in X_test_text]\n"
   ]
  },
  {
   "cell_type": "markdown",
   "metadata": {},
   "source": [
    "### Creating Embeddings"
   ]
  },
  {
   "cell_type": "code",
   "execution_count": 48,
   "metadata": {},
   "outputs": [],
   "source": [
    "word2vec = Word2Vec(sentences=X_train_text, min_count=1)\n"
   ]
  },
  {
   "cell_type": "code",
   "execution_count": 49,
   "metadata": {},
   "outputs": [],
   "source": [
    "def embed_sentence(word2vec, sentence):\n",
    "    embedded_sentence = []\n",
    "    for word in sentence:\n",
    "        if word in word2vec.wv:\n",
    "            embedded_sentence.append(word2vec.wv[word])\n",
    "\n",
    "    return np.array(embedded_sentence)\n"
   ]
  },
  {
   "cell_type": "code",
   "execution_count": 50,
   "metadata": {},
   "outputs": [],
   "source": [
    "def embedding(word2vec, sentences):\n",
    "    embed = []\n",
    "\n",
    "    for sentence in sentences:\n",
    "        embedded_sentence = embed_sentence(word2vec, sentence)\n",
    "        embed.append(embedded_sentence)\n",
    "\n",
    "    return embed\n",
    "\n",
    "X_train_text = embedding(word2vec, X_train_text)\n",
    "X_test_text = embedding(word2vec, X_test_text)\n"
   ]
  },
  {
   "cell_type": "code",
   "execution_count": 51,
   "metadata": {},
   "outputs": [
    {
     "data": {
      "text/plain": [
       "3306"
      ]
     },
     "execution_count": 51,
     "metadata": {},
     "output_type": "execute_result"
    }
   ],
   "source": [
    "len(X_train_text)\n"
   ]
  },
  {
   "cell_type": "markdown",
   "metadata": {},
   "source": [
    "### Padding"
   ]
  },
  {
   "cell_type": "code",
   "execution_count": 52,
   "metadata": {},
   "outputs": [
    {
     "name": "stderr",
     "output_type": "stream",
     "text": [
      "/Users/christine/.pyenv/versions/3.10.6/envs/neuroCraft/lib/python3.10/site-packages/seaborn/_oldcore.py:1498: FutureWarning: is_categorical_dtype is deprecated and will be removed in a future version. Use isinstance(dtype, CategoricalDtype) instead\n",
      "  if pd.api.types.is_categorical_dtype(vector):\n",
      "/Users/christine/.pyenv/versions/3.10.6/envs/neuroCraft/lib/python3.10/site-packages/seaborn/_oldcore.py:1119: FutureWarning: use_inf_as_na option is deprecated and will be removed in a future version. Convert inf values to NaN before operating instead.\n",
      "  with pd.option_context('mode.use_inf_as_na', True):\n"
     ]
    },
    {
     "data": {
      "image/png": "[encoded data removed]",
      "text/plain": [
       "<Figure size 640x480 with 1 Axes>"
      ]
     },
     "metadata": {},
     "output_type": "display_data"
    }
   ],
   "source": [
    "sns.histplot([len(x) for x in X_train_text]);\n"
   ]
  },
  {
   "cell_type": "code",
   "execution_count": 53,
   "metadata": {},
   "outputs": [],
   "source": [
    "maxlen=105\n"
   ]
  },
  {
   "cell_type": "code",
   "execution_count": 54,
   "metadata": {},
   "outputs": [],
   "source": [
    "X_train_pad = pad_sequences(X_train_text, dtype=float, padding='post', maxlen=maxlen)\n",
    "X_test_pad = pad_sequences(X_test_text, dtype=float, padding='post', maxlen=maxlen)\n"
   ]
  },
  {
   "cell_type": "code",
   "execution_count": 55,
   "metadata": {},
   "outputs": [
    {
     "data": {
      "text/plain": [
       "(3306, 105, 100)"
      ]
     },
     "execution_count": 55,
     "metadata": {},
     "output_type": "execute_result"
    }
   ],
   "source": [
    "X_train_pad.shape\n"
   ]
  },
  {
   "cell_type": "markdown",
   "metadata": {},
   "source": []
  },
  {
   "cell_type": "markdown",
   "metadata": {},
   "source": [
    "# NLP Model"
   ]
  },
  {
   "cell_type": "code",
   "execution_count": 56,
   "metadata": {},
   "outputs": [
    {
     "name": "stderr",
     "output_type": "stream",
     "text": [
      "WARNING:absl:At this time, the v2.11+ optimizer `tf.keras.optimizers.Adam` runs slowly on M1/M2 Macs, please use the legacy Keras optimizer instead, located at `tf.keras.optimizers.legacy.Adam`.\n"
     ]
    },
    {
     "name": "stdout",
     "output_type": "stream",
     "text": [
      "Model: \"sequential\"\n",
      "_________________________________________________________________\n",
      " Layer (type)                Output Shape              Param #   \n",
      "=================================================================\n",
      " lstm (LSTM)                 (None, 105)               86520     \n",
      "                                                                 \n",
      " dense (Dense)               (None, 64)                6784      \n",
      "                                                                 \n",
      " dropout (Dropout)           (None, 64)                0         \n",
      "                                                                 \n",
      " dense_1 (Dense)             (None, 6)                 390       \n",
      "                                                                 \n",
      "=================================================================\n",
      "Total params: 93694 (365.99 KB)\n",
      "Trainable params: 93694 (365.99 KB)\n",
      "Non-trainable params: 0 (0.00 Byte)\n",
      "_________________________________________________________________\n"
     ]
    }
   ],
   "source": [
    "    def build_model_nlp():\n",
    "        model = Sequential([\n",
    "            # layers.Conv1D(105, kernel_size=15, padding='same', activation=\"relu\", input_shape=X_train_pad.shape[1:]),\n",
    "            # layers.Conv1D(64, kernel_size=10, padding='same', activation=\"relu\"),\n",
    "            # layers.Flatten(),\n",
    "            layers.LSTM(105, input_shape=X_train_pad.shape[1:]),\n",
    "            layers.Dense(64, activation='relu'),\n",
    "            layers.Dropout(0.15),\n",
    "            layers.Dense(6, activation='softmax'),\n",
    "        ])\n",
    "    \n",
    "        model.compile(loss=\"sparse_categorical_crossentropy\", optimizer=Adam(), metrics=['accuracy'])\n",
    "        return model\n",
    "    \n",
    "    model_nlp = build_model_nlp()\n",
    "    model_nlp.summary()\n"
   ]
  },
  {
   "cell_type": "code",
   "execution_count": 57,
   "metadata": {},
   "outputs": [
    {
     "name": "stderr",
     "output_type": "stream",
     "text": [
      "WARNING:absl:At this time, the v2.11+ optimizer `tf.keras.optimizers.Adam` runs slowly on M1/M2 Macs, please use the legacy Keras optimizer instead, located at `tf.keras.optimizers.legacy.Adam`.\n"
     ]
    },
    {
     "name": "stdout",
     "output_type": "stream",
     "text": [
      "Epoch 1/50\n",
      "73/73 [==============================] - 3s 36ms/step - loss: 1.7905 - accuracy: 0.1672 - val_loss: 1.7786 - val_accuracy: 0.1905\n",
      "Epoch 2/50\n",
      "73/73 [==============================] - 2s 34ms/step - loss: 1.7238 - accuracy: 0.2347 - val_loss: 1.6768 - val_accuracy: 0.2601\n",
      "Epoch 3/50\n",
      "73/73 [==============================] - 2s 34ms/step - loss: 1.6935 - accuracy: 0.2524 - val_loss: 1.6636 - val_accuracy: 0.2933\n",
      "Epoch 4/50\n",
      "73/73 [==============================] - 2s 34ms/step - loss: 1.6752 - accuracy: 0.2679 - val_loss: 1.6696 - val_accuracy: 0.2581\n",
      "Epoch 5/50\n",
      "73/73 [==============================] - 2s 34ms/step - loss: 1.6428 - accuracy: 0.2869 - val_loss: 1.5672 - val_accuracy: 0.3034\n",
      "Epoch 6/50\n",
      "73/73 [==============================] - 2s 33ms/step - loss: 1.6119 - accuracy: 0.2934 - val_loss: 1.5947 - val_accuracy: 0.3065\n",
      "Epoch 7/50\n",
      "73/73 [==============================] - 2s 34ms/step - loss: 1.6010 - accuracy: 0.2895 - val_loss: 1.5749 - val_accuracy: 0.3105\n",
      "Epoch 8/50\n",
      "73/73 [==============================] - 2s 33ms/step - loss: 1.6114 - accuracy: 0.2848 - val_loss: 1.6398 - val_accuracy: 0.2540\n",
      "Epoch 9/50\n",
      "73/73 [==============================] - 2s 34ms/step - loss: 1.5987 - accuracy: 0.2943 - val_loss: 1.5541 - val_accuracy: 0.3296\n",
      "Epoch 10/50\n",
      "73/73 [==============================] - 2s 34ms/step - loss: 1.5774 - accuracy: 0.3012 - val_loss: 1.5579 - val_accuracy: 0.3095\n",
      "Epoch 11/50\n",
      "73/73 [==============================] - 2s 34ms/step - loss: 1.5768 - accuracy: 0.3129 - val_loss: 1.5274 - val_accuracy: 0.3276\n",
      "Epoch 12/50\n",
      "73/73 [==============================] - 2s 34ms/step - loss: 1.5555 - accuracy: 0.3297 - val_loss: 1.5215 - val_accuracy: 0.3448\n",
      "Epoch 13/50\n",
      "73/73 [==============================] - 2s 34ms/step - loss: 1.5522 - accuracy: 0.3194 - val_loss: 1.5308 - val_accuracy: 0.3216\n",
      "Epoch 14/50\n",
      "73/73 [==============================] - 2s 34ms/step - loss: 1.5681 - accuracy: 0.3025 - val_loss: 1.5496 - val_accuracy: 0.3135\n",
      "Epoch 15/50\n",
      "73/73 [==============================] - 2s 34ms/step - loss: 1.5435 - accuracy: 0.3198 - val_loss: 1.5397 - val_accuracy: 0.3246\n",
      "Epoch 16/50\n",
      "73/73 [==============================] - 2s 34ms/step - loss: 1.5377 - accuracy: 0.3289 - val_loss: 1.5156 - val_accuracy: 0.3438\n",
      "Epoch 17/50\n",
      "73/73 [==============================] - 2s 34ms/step - loss: 1.5310 - accuracy: 0.3284 - val_loss: 1.5511 - val_accuracy: 0.3327\n",
      "Epoch 18/50\n",
      "73/73 [==============================] - 2s 34ms/step - loss: 1.5456 - accuracy: 0.3315 - val_loss: 1.5189 - val_accuracy: 0.3357\n",
      "Epoch 19/50\n",
      "73/73 [==============================] - 2s 34ms/step - loss: 1.5295 - accuracy: 0.3410 - val_loss: 1.5057 - val_accuracy: 0.3387\n",
      "Epoch 20/50\n",
      "73/73 [==============================] - 2s 34ms/step - loss: 1.5268 - accuracy: 0.3345 - val_loss: 1.5144 - val_accuracy: 0.3377\n",
      "Epoch 21/50\n",
      "73/73 [==============================] - 2s 34ms/step - loss: 1.5235 - accuracy: 0.3492 - val_loss: 1.5283 - val_accuracy: 0.3397\n",
      "Epoch 22/50\n",
      "73/73 [==============================] - 2s 34ms/step - loss: 1.5369 - accuracy: 0.3371 - val_loss: 1.5425 - val_accuracy: 0.3357\n",
      "Epoch 23/50\n",
      "73/73 [==============================] - 2s 34ms/step - loss: 1.5263 - accuracy: 0.3392 - val_loss: 1.5043 - val_accuracy: 0.3498\n",
      "Epoch 24/50\n",
      "73/73 [==============================] - 2s 34ms/step - loss: 1.5172 - accuracy: 0.3410 - val_loss: 1.5104 - val_accuracy: 0.3427\n",
      "Epoch 25/50\n",
      "73/73 [==============================] - 2s 34ms/step - loss: 1.5111 - accuracy: 0.3552 - val_loss: 1.5073 - val_accuracy: 0.3417\n",
      "Epoch 26/50\n",
      "73/73 [==============================] - 2s 34ms/step - loss: 1.5037 - accuracy: 0.3505 - val_loss: 1.5206 - val_accuracy: 0.3478\n",
      "Epoch 27/50\n",
      "73/73 [==============================] - 2s 34ms/step - loss: 1.5039 - accuracy: 0.3487 - val_loss: 1.5040 - val_accuracy: 0.3508\n",
      "Epoch 28/50\n",
      "73/73 [==============================] - 2s 34ms/step - loss: 1.4950 - accuracy: 0.3470 - val_loss: 1.5085 - val_accuracy: 0.3569\n",
      "Epoch 29/50\n",
      "73/73 [==============================] - 2s 34ms/step - loss: 1.4929 - accuracy: 0.3500 - val_loss: 1.5314 - val_accuracy: 0.3317\n",
      "Epoch 30/50\n",
      "73/73 [==============================] - 2s 33ms/step - loss: 1.4858 - accuracy: 0.3531 - val_loss: 1.5206 - val_accuracy: 0.3508\n",
      "Epoch 31/50\n",
      "73/73 [==============================] - 2s 34ms/step - loss: 1.4811 - accuracy: 0.3634 - val_loss: 1.5047 - val_accuracy: 0.3619\n",
      "Epoch 32/50\n",
      "73/73 [==============================] - 2s 34ms/step - loss: 1.4688 - accuracy: 0.3518 - val_loss: 1.5192 - val_accuracy: 0.3599\n",
      "Epoch 33/50\n",
      "73/73 [==============================] - 2s 34ms/step - loss: 1.4732 - accuracy: 0.3704 - val_loss: 1.5175 - val_accuracy: 0.3377\n",
      "Epoch 34/50\n",
      "73/73 [==============================] - 3s 34ms/step - loss: 1.4645 - accuracy: 0.3708 - val_loss: 1.5187 - val_accuracy: 0.3548\n",
      "Epoch 35/50\n",
      "73/73 [==============================] - 2s 34ms/step - loss: 1.4599 - accuracy: 0.3768 - val_loss: 1.5235 - val_accuracy: 0.3589\n",
      "Epoch 36/50\n",
      "73/73 [==============================] - 2s 34ms/step - loss: 1.4481 - accuracy: 0.3686 - val_loss: 1.5237 - val_accuracy: 0.3700\n",
      "Epoch 37/50\n",
      "73/73 [==============================] - 2s 34ms/step - loss: 1.4620 - accuracy: 0.3729 - val_loss: 1.5362 - val_accuracy: 0.3478\n"
     ]
    },
    {
     "data": {
      "text/plain": [
       "<keras.src.callbacks.History at 0x2ed6eae30>"
      ]
     },
     "execution_count": 57,
     "metadata": {},
     "output_type": "execute_result"
    }
   ],
   "source": [
    "es = EarlyStopping(patience=10)\n",
    "\n",
    "model_nlp = build_model_nlp()\n",
    "model_nlp.fit(X_train_pad, y_train,\n",
    "          validation_split=0.3,\n",
    "          epochs=50,\n",
    "          batch_size=32,\n",
    "          callbacks=[es]\n",
    "          )\n"
   ]
  },
  {
   "cell_type": "code",
   "execution_count": 58,
   "metadata": {},
   "outputs": [
    {
     "name": "stdout",
     "output_type": "stream",
     "text": [
      "45/45 [==============================] - 1s 11ms/step - loss: 1.7068 - accuracy: 0.2983\n",
      "Test loss: 1.7068\n",
      "Test accuracy: 0.2983\n"
     ]
    }
   ],
   "source": [
    "loss, accuracy = model_nlp.evaluate(X_test_pad, y_test)\n",
    "print(f'Test loss: {loss:.4f}')\n",
    "print(f'Test accuracy: {accuracy:.4f}')\n"
   ]
  },
  {
   "cell_type": "markdown",
   "metadata": {},
   "source": [
    "### Confusion Matrix"
   ]
  },
  {
   "cell_type": "code",
   "execution_count": 59,
   "metadata": {},
   "outputs": [
    {
     "name": "stdout",
     "output_type": "stream",
     "text": [
      "45/45 [==============================] - 1s 11ms/step\n"
     ]
    }
   ],
   "source": [
    "predictions = model_nlp.predict(X_test_pad)\n",
    "\n",
    "# Convert probabilities to class labels\n",
    "class_labels_predictions = np.argmax(predictions, axis=1)\n"
   ]
  },
  {
   "cell_type": "code",
   "execution_count": 80,
   "metadata": {},
   "outputs": [
    {
     "data": {
      "image/png": "[encoded data removed]",
      "text/plain": [
       "<Figure size 1500x1500 with 2 Axes>"
      ]
     },
     "metadata": {},
     "output_type": "display_data"
    }
   ],
   "source": [
    "y_true = y_test\n",
    "y_pred = class_labels_predictions\n",
    "\n",
    "cm = confusion_matrix(y_true, y_pred)\n",
    "\n",
    "# Plotting\n",
    "fig, ax = plt.subplots(figsize=(15,15))\n",
    "sns.heatmap(cm, annot=True, ax=ax, cmap='Blues', fmt='g')\n",
    "\n",
    "# labels, title, and ticks\n",
    "ax.set_xlabel('Predicted labels')\n",
    "ax.set_ylabel('True labels')\n",
    "ax.set_title('Confusion Matrix')\n",
    "\n",
    "ax.xaxis.set_ticklabels(labels_dict.keys()) # replace with your class names\n",
    "ax.yaxis.set_ticklabels(labels_dict.keys()) # replace with your class names\n",
    "plt.show()"
   ]
  },
  {
   "cell_type": "markdown",
   "metadata": {},
   "source": [
    "# Numerical Model"
   ]
  },
  {
   "cell_type": "markdown",
   "metadata": {},
   "source": [
    "### Scaling"
   ]
  },
  {
   "cell_type": "code",
   "execution_count": 61,
   "metadata": {},
   "outputs": [],
   "source": [
    "# # Build the pipeline with the different steps\n",
    "# num_preproc_pipeline = Pipeline([\n",
    "#     ('standard_scaler', StandardScaler()),\n",
    "\n",
    "# ])\n"
   ]
  },
  {
   "cell_type": "code",
   "execution_count": 62,
   "metadata": {},
   "outputs": [],
   "source": [
    "X_train_num = X_train.drop(columns=['Excerpt'])\n",
    "X_test_num = X_test.drop(columns=['Excerpt'])\n"
   ]
  },
  {
   "cell_type": "code",
   "execution_count": 63,
   "metadata": {},
   "outputs": [],
   "source": [
    "scaler = StandardScaler()\n",
    "scaler.fit(X_train_num)\n",
    "X_train_num = scaler.transform(X_train_num)\n",
    "X_test_num = scaler.transform(X_test_num)\n"
   ]
  },
  {
   "cell_type": "code",
   "execution_count": 64,
   "metadata": {},
   "outputs": [
    {
     "name": "stdout",
     "output_type": "stream",
     "text": [
      "(3306, 20)\n"
     ]
    },
    {
     "data": {
      "text/html": [
       "<div>\n",
       "<style scoped>\n",
       "    .dataframe tbody tr th:only-of-type {\n",
       "        vertical-align: middle;\n",
       "    }\n",
       "\n",
       "    .dataframe tbody tr th {\n",
       "        vertical-align: top;\n",
       "    }\n",
       "\n",
       "    .dataframe thead th {\n",
       "        text-align: right;\n",
       "    }\n",
       "</style>\n",
       "<table border=\"1\" class=\"dataframe\">\n",
       "  <thead>\n",
       "    <tr style=\"text-align: right;\">\n",
       "      <th></th>\n",
       "      <th>0</th>\n",
       "      <th>1</th>\n",
       "      <th>2</th>\n",
       "      <th>3</th>\n",
       "      <th>4</th>\n",
       "      <th>5</th>\n",
       "      <th>6</th>\n",
       "      <th>7</th>\n",
       "      <th>8</th>\n",
       "      <th>9</th>\n",
       "      <th>10</th>\n",
       "      <th>11</th>\n",
       "      <th>12</th>\n",
       "      <th>13</th>\n",
       "      <th>14</th>\n",
       "      <th>15</th>\n",
       "      <th>16</th>\n",
       "      <th>17</th>\n",
       "      <th>18</th>\n",
       "      <th>19</th>\n",
       "    </tr>\n",
       "  </thead>\n",
       "  <tbody>\n",
       "    <tr>\n",
       "      <th>0</th>\n",
       "      <td>-1.528652</td>\n",
       "      <td>-0.598320</td>\n",
       "      <td>-0.277377</td>\n",
       "      <td>0.735236</td>\n",
       "      <td>0.266702</td>\n",
       "      <td>1.884031</td>\n",
       "      <td>2.052343</td>\n",
       "      <td>-1.651478</td>\n",
       "      <td>-1.807186</td>\n",
       "      <td>-3.106924</td>\n",
       "      <td>-3.568392</td>\n",
       "      <td>-1.661227</td>\n",
       "      <td>-1.708524</td>\n",
       "      <td>-2.095104</td>\n",
       "      <td>1.353047</td>\n",
       "      <td>-2.476903</td>\n",
       "      <td>3.213892</td>\n",
       "      <td>-0.967436</td>\n",
       "      <td>-2.814386</td>\n",
       "      <td>-1.098298</td>\n",
       "    </tr>\n",
       "    <tr>\n",
       "      <th>1</th>\n",
       "      <td>-1.291874</td>\n",
       "      <td>-1.483229</td>\n",
       "      <td>-0.277377</td>\n",
       "      <td>-0.981808</td>\n",
       "      <td>-1.014242</td>\n",
       "      <td>-0.854781</td>\n",
       "      <td>0.034239</td>\n",
       "      <td>0.179622</td>\n",
       "      <td>0.384274</td>\n",
       "      <td>0.549977</td>\n",
       "      <td>-0.247435</td>\n",
       "      <td>0.580840</td>\n",
       "      <td>0.824620</td>\n",
       "      <td>-0.454527</td>\n",
       "      <td>-0.608655</td>\n",
       "      <td>-1.159385</td>\n",
       "      <td>-1.068942</td>\n",
       "      <td>1.046996</td>\n",
       "      <td>0.194797</td>\n",
       "      <td>0.920825</td>\n",
       "    </tr>\n",
       "    <tr>\n",
       "      <th>2</th>\n",
       "      <td>-0.936708</td>\n",
       "      <td>-1.040775</td>\n",
       "      <td>-0.277377</td>\n",
       "      <td>-0.552547</td>\n",
       "      <td>-0.587261</td>\n",
       "      <td>-0.307019</td>\n",
       "      <td>-0.425665</td>\n",
       "      <td>0.301849</td>\n",
       "      <td>0.222438</td>\n",
       "      <td>0.854719</td>\n",
       "      <td>0.150467</td>\n",
       "      <td>-0.623626</td>\n",
       "      <td>-0.555945</td>\n",
       "      <td>-0.544803</td>\n",
       "      <td>0.132819</td>\n",
       "      <td>-0.663177</td>\n",
       "      <td>-0.661366</td>\n",
       "      <td>0.199655</td>\n",
       "      <td>0.352636</td>\n",
       "      <td>0.090951</td>\n",
       "    </tr>\n",
       "    <tr>\n",
       "      <th>3</th>\n",
       "      <td>0.898319</td>\n",
       "      <td>0.618429</td>\n",
       "      <td>-0.277377</td>\n",
       "      <td>0.091345</td>\n",
       "      <td>0.053211</td>\n",
       "      <td>-0.854781</td>\n",
       "      <td>-0.152460</td>\n",
       "      <td>-0.055608</td>\n",
       "      <td>0.033945</td>\n",
       "      <td>0.245235</td>\n",
       "      <td>0.711612</td>\n",
       "      <td>1.243727</td>\n",
       "      <td>1.021627</td>\n",
       "      <td>1.500619</td>\n",
       "      <td>-0.612350</td>\n",
       "      <td>1.159105</td>\n",
       "      <td>-0.807648</td>\n",
       "      <td>-0.217620</td>\n",
       "      <td>0.744717</td>\n",
       "      <td>-0.294786</td>\n",
       "    </tr>\n",
       "    <tr>\n",
       "      <th>4</th>\n",
       "      <td>-0.344764</td>\n",
       "      <td>-0.487707</td>\n",
       "      <td>-0.277377</td>\n",
       "      <td>-0.337916</td>\n",
       "      <td>-0.373770</td>\n",
       "      <td>-0.307019</td>\n",
       "      <td>0.272951</td>\n",
       "      <td>-0.191672</td>\n",
       "      <td>-0.293536</td>\n",
       "      <td>-0.059507</td>\n",
       "      <td>-0.186220</td>\n",
       "      <td>-0.678607</td>\n",
       "      <td>-0.492196</td>\n",
       "      <td>-0.962919</td>\n",
       "      <td>-0.116443</td>\n",
       "      <td>-0.731619</td>\n",
       "      <td>-0.331294</td>\n",
       "      <td>0.025790</td>\n",
       "      <td>-0.592368</td>\n",
       "      <td>-0.074255</td>\n",
       "    </tr>\n",
       "  </tbody>\n",
       "</table>\n",
       "</div>"
      ],
      "text/plain": [
       "         0         1         2         3         4         5         6   \\\n",
       "0 -1.528652 -0.598320 -0.277377  0.735236  0.266702  1.884031  2.052343   \n",
       "1 -1.291874 -1.483229 -0.277377 -0.981808 -1.014242 -0.854781  0.034239   \n",
       "2 -0.936708 -1.040775 -0.277377 -0.552547 -0.587261 -0.307019 -0.425665   \n",
       "3  0.898319  0.618429 -0.277377  0.091345  0.053211 -0.854781 -0.152460   \n",
       "4 -0.344764 -0.487707 -0.277377 -0.337916 -0.373770 -0.307019  0.272951   \n",
       "\n",
       "         7         8         9         10        11        12        13  \\\n",
       "0 -1.651478 -1.807186 -3.106924 -3.568392 -1.661227 -1.708524 -2.095104   \n",
       "1  0.179622  0.384274  0.549977 -0.247435  0.580840  0.824620 -0.454527   \n",
       "2  0.301849  0.222438  0.854719  0.150467 -0.623626 -0.555945 -0.544803   \n",
       "3 -0.055608  0.033945  0.245235  0.711612  1.243727  1.021627  1.500619   \n",
       "4 -0.191672 -0.293536 -0.059507 -0.186220 -0.678607 -0.492196 -0.962919   \n",
       "\n",
       "         14        15        16        17        18        19  \n",
       "0  1.353047 -2.476903  3.213892 -0.967436 -2.814386 -1.098298  \n",
       "1 -0.608655 -1.159385 -1.068942  1.046996  0.194797  0.920825  \n",
       "2  0.132819 -0.663177 -0.661366  0.199655  0.352636  0.090951  \n",
       "3 -0.612350  1.159105 -0.807648 -0.217620  0.744717 -0.294786  \n",
       "4 -0.116443 -0.731619 -0.331294  0.025790 -0.592368 -0.074255  "
      ]
     },
     "execution_count": 64,
     "metadata": {},
     "output_type": "execute_result"
    }
   ],
   "source": [
    "print(X_train_num.shape)\n",
    "pd.DataFrame(X_train_num).head()\n"
   ]
  },
  {
   "cell_type": "code",
   "execution_count": 65,
   "metadata": {},
   "outputs": [
    {
     "name": "stderr",
     "output_type": "stream",
     "text": [
      "WARNING:absl:At this time, the v2.11+ optimizer `tf.keras.optimizers.Adam` runs slowly on M1/M2 Macs, please use the legacy Keras optimizer instead, located at `tf.keras.optimizers.legacy.Adam`.\n"
     ]
    },
    {
     "name": "stdout",
     "output_type": "stream",
     "text": [
      "Model: \"sequential_2\"\n",
      "_________________________________________________________________\n",
      " Layer (type)                Output Shape              Param #   \n",
      "=================================================================\n",
      " dense_4 (Dense)             (None, 128)               2688      \n",
      "                                                                 \n",
      " dense_5 (Dense)             (None, 64)                8256      \n",
      "                                                                 \n",
      " dropout_2 (Dropout)         (None, 64)                0         \n",
      "                                                                 \n",
      " dense_6 (Dense)             (None, 32)                2080      \n",
      "                                                                 \n",
      " dropout_3 (Dropout)         (None, 32)                0         \n",
      "                                                                 \n",
      " dense_7 (Dense)             (None, 6)                 198       \n",
      "                                                                 \n",
      "=================================================================\n",
      "Total params: 13222 (51.65 KB)\n",
      "Trainable params: 13222 (51.65 KB)\n",
      "Non-trainable params: 0 (0.00 Byte)\n",
      "_________________________________________________________________\n"
     ]
    }
   ],
   "source": [
    "def build_model_num():\n",
    "    model = Sequential([\n",
    "        layers.Dense(128, activation=\"relu\", input_dim = X_train_num.shape[1]),\n",
    "        layers.Dense(64, activation=\"relu\"),\n",
    "        layers.Dropout(0.25),\n",
    "        layers.Dense(32, activation=\"relu\"),\n",
    "        layers.Dropout(0.15),\n",
    "        layers.Dense(6, activation='softmax')\n",
    "    ])\n",
    "\n",
    "    model.compile(loss=\"sparse_categorical_crossentropy\", optimizer=Adam(), metrics=['accuracy'])\n",
    "    return model\n",
    "\n",
    "model_num = build_model_num()\n",
    "model_num.summary()\n"
   ]
  },
  {
   "cell_type": "code",
   "execution_count": 66,
   "metadata": {},
   "outputs": [],
   "source": [
    "# def build_model_num():\n",
    "#     input_num = layers.Input(shape=(X_num.shape[1],))\n",
    "\n",
    "#     x = layers.Dense(64, activation=\"relu\")(input_num)\n",
    "#     x = layers.Dense(32, activation=\"relu\")(x)\n",
    "#     output_num = layers.Dense(1, activation=\"relu\")(x)\n",
    "\n",
    "#     model_num = models.Model(inputs=input_num, outputs=output_num)\n",
    "\n",
    "#     return model_num\n",
    "\n",
    "# model_num = build_model_num()\n",
    "# model_num.summary()\n"
   ]
  },
  {
   "cell_type": "code",
   "execution_count": 67,
   "metadata": {},
   "outputs": [
    {
     "name": "stderr",
     "output_type": "stream",
     "text": [
      "WARNING:absl:At this time, the v2.11+ optimizer `tf.keras.optimizers.Adam` runs slowly on M1/M2 Macs, please use the legacy Keras optimizer instead, located at `tf.keras.optimizers.legacy.Adam`.\n"
     ]
    },
    {
     "name": "stdout",
     "output_type": "stream",
     "text": [
      "Epoch 1/50\n",
      "73/73 [==============================] - 0s 1ms/step - loss: 1.6618 - accuracy: 0.2783 - val_loss: 1.5795 - val_accuracy: 0.3216\n",
      "Epoch 2/50\n",
      "73/73 [==============================] - 0s 675us/step - loss: 1.5656 - accuracy: 0.3120 - val_loss: 1.5346 - val_accuracy: 0.3306\n",
      "Epoch 3/50\n",
      "73/73 [==============================] - 0s 631us/step - loss: 1.5371 - accuracy: 0.3263 - val_loss: 1.5043 - val_accuracy: 0.3377\n",
      "Epoch 4/50\n",
      "73/73 [==============================] - 0s 617us/step - loss: 1.5112 - accuracy: 0.3470 - val_loss: 1.5165 - val_accuracy: 0.3377\n",
      "Epoch 5/50\n",
      "73/73 [==============================] - 0s 611us/step - loss: 1.5022 - accuracy: 0.3596 - val_loss: 1.4831 - val_accuracy: 0.3448\n",
      "Epoch 6/50\n",
      "73/73 [==============================] - 0s 631us/step - loss: 1.4915 - accuracy: 0.3496 - val_loss: 1.4974 - val_accuracy: 0.3488\n",
      "Epoch 7/50\n",
      "73/73 [==============================] - 0s 630us/step - loss: 1.4676 - accuracy: 0.3630 - val_loss: 1.4830 - val_accuracy: 0.3558\n",
      "Epoch 8/50\n",
      "73/73 [==============================] - 0s 627us/step - loss: 1.4663 - accuracy: 0.3691 - val_loss: 1.4698 - val_accuracy: 0.3599\n",
      "Epoch 9/50\n",
      "73/73 [==============================] - 0s 620us/step - loss: 1.4618 - accuracy: 0.3691 - val_loss: 1.4645 - val_accuracy: 0.3609\n",
      "Epoch 10/50\n",
      "73/73 [==============================] - 0s 627us/step - loss: 1.4542 - accuracy: 0.3850 - val_loss: 1.4911 - val_accuracy: 0.3478\n",
      "Epoch 11/50\n",
      "73/73 [==============================] - 0s 623us/step - loss: 1.4456 - accuracy: 0.3786 - val_loss: 1.4699 - val_accuracy: 0.3609\n",
      "Epoch 12/50\n",
      "73/73 [==============================] - 0s 615us/step - loss: 1.4342 - accuracy: 0.3885 - val_loss: 1.4764 - val_accuracy: 0.3448\n",
      "Epoch 13/50\n",
      "73/73 [==============================] - 0s 629us/step - loss: 1.4363 - accuracy: 0.4015 - val_loss: 1.4664 - val_accuracy: 0.3619\n",
      "Epoch 14/50\n",
      "73/73 [==============================] - 0s 629us/step - loss: 1.4364 - accuracy: 0.3898 - val_loss: 1.4731 - val_accuracy: 0.3528\n",
      "Epoch 15/50\n",
      "73/73 [==============================] - 0s 615us/step - loss: 1.4133 - accuracy: 0.4054 - val_loss: 1.4858 - val_accuracy: 0.3569\n",
      "Epoch 16/50\n",
      "73/73 [==============================] - 0s 639us/step - loss: 1.4240 - accuracy: 0.3902 - val_loss: 1.4943 - val_accuracy: 0.3528\n",
      "Epoch 17/50\n",
      "73/73 [==============================] - 0s 630us/step - loss: 1.4027 - accuracy: 0.4131 - val_loss: 1.4842 - val_accuracy: 0.3508\n",
      "Epoch 18/50\n",
      "73/73 [==============================] - 0s 638us/step - loss: 1.3999 - accuracy: 0.3976 - val_loss: 1.4828 - val_accuracy: 0.3508\n",
      "Epoch 19/50\n",
      "73/73 [==============================] - 0s 617us/step - loss: 1.3919 - accuracy: 0.4162 - val_loss: 1.4738 - val_accuracy: 0.3488\n"
     ]
    },
    {
     "data": {
      "text/plain": [
       "<keras.src.callbacks.History at 0x2b5591930>"
      ]
     },
     "execution_count": 67,
     "metadata": {},
     "output_type": "execute_result"
    }
   ],
   "source": [
    "es = EarlyStopping(patience=10)\n",
    "model_num = build_model_num()\n",
    "model_num.fit(X_train_num, y_train,\n",
    "          validation_split=0.3,\n",
    "          epochs=50,\n",
    "          batch_size=32,\n",
    "          callbacks=[es]\n",
    "          )\n"
   ]
  },
  {
   "cell_type": "code",
   "execution_count": 68,
   "metadata": {},
   "outputs": [
    {
     "name": "stdout",
     "output_type": "stream",
     "text": [
      "45/45 [==============================] - 0s 343us/step - loss: 1.4891 - accuracy: 0.3307\n",
      "Test loss: 1.4891\n",
      "Test accuracy: 0.3307\n"
     ]
    }
   ],
   "source": [
    "loss, accuracy = model_num.evaluate(X_test_num, y_test)\n",
    "print(f'Test loss: {loss:.4f}')\n",
    "print(f'Test accuracy: {accuracy:.4f}')\n"
   ]
  },
  {
   "cell_type": "markdown",
   "metadata": {},
   "source": [
    "### Confusion Matrix"
   ]
  },
  {
   "cell_type": "code",
   "execution_count": 69,
   "metadata": {},
   "outputs": [
    {
     "name": "stdout",
     "output_type": "stream",
     "text": [
      "45/45 [==============================] - 0s 316us/step\n"
     ]
    }
   ],
   "source": [
    "predictions = model_num.predict(X_test_num)\n",
    "\n",
    "# Convert probabilities to class labels\n",
    "class_labels_predictions = np.argmax(predictions, axis=1)\n"
   ]
  },
  {
   "cell_type": "code",
   "execution_count": 70,
   "metadata": {},
   "outputs": [
    {
     "data": {
      "image/png": "[encoded data removed]",
      "text/plain": [
       "<Figure size 1500x1500 with 2 Axes>"
      ]
     },
     "metadata": {},
     "output_type": "display_data"
    }
   ],
   "source": [
    "y_true = y_test\n",
    "y_pred = class_labels_predictions\n",
    "\n",
    "cm = confusion_matrix(y_true, y_pred)\n",
    "\n",
    "# Plotting\n",
    "fig, ax = plt.subplots(figsize=(15,15))\n",
    "sns.heatmap(cm, annot=True, ax=ax, cmap='Blues', fmt='g')\n",
    "\n",
    "# labels, title, and ticks\n",
    "ax.set_xlabel('Predicted labels')\n",
    "ax.set_ylabel('True labels')\n",
    "ax.set_title('Confusion Matrix')\n",
    "\n",
    "ax.xaxis.set_ticklabels(labels_dict.keys()) # replace with your class names\n",
    "ax.yaxis.set_ticklabels(labels_dict.keys()) # replace with your class names\n",
    "plt.show()\n"
   ]
  },
  {
   "cell_type": "code",
   "execution_count": 71,
   "metadata": {},
   "outputs": [
    {
     "data": {
      "image/png": "[encoded data removed]",
      "text/plain": [
       "<Figure size 1000x1200 with 1 Axes>"
      ]
     },
     "metadata": {},
     "output_type": "display_data"
    }
   ],
   "source": [
    "y_true = y_test\n",
    "y_pred = class_labels_predictions\n",
    "\n",
    "cm = confusion_matrix(y_true, y_pred)\n",
    "\n",
    "# Plotting\n",
    "fig, ax = plt.subplots(figsize=(10, 12))  # Adjust the size as needed\n",
    "sns.heatmap(cm, annot=True, ax=ax, cmap='Blues', fmt='g', cbar=False)  # Remove color bar\n",
    "\n",
    "# labels, title, and ticks\n",
    "ax.set_xlabel('Predicted labels', fontsize=12)\n",
    "ax.set_ylabel('True labels', fontsize=12)\n",
    "ax.set_title('Confusion Matrix', fontsize=14)\n",
    "\n",
    "# Rotate tick labels\n",
    "ax.set_xticklabels(labels_dict.keys(), rotation=90, fontsize=10)  # replace with your class names\n",
    "ax.set_yticklabels(labels_dict.keys(), rotation=0, fontsize=10)  # replace with your class names\n",
    "\n",
    "plt.show()\n"
   ]
  },
  {
   "cell_type": "markdown",
   "metadata": {},
   "source": [
    "# Combining the two models"
   ]
  },
  {
   "cell_type": "code",
   "execution_count": 72,
   "metadata": {},
   "outputs": [
    {
     "name": "stderr",
     "output_type": "stream",
     "text": [
      "WARNING:absl:At this time, the v2.11+ optimizer `tf.keras.optimizers.Adam` runs slowly on M1/M2 Macs, please use the legacy Keras optimizer instead, located at `tf.keras.optimizers.legacy.Adam`.\n",
      "WARNING:absl:At this time, the v2.11+ optimizer `tf.keras.optimizers.Adam` runs slowly on M1/M2 Macs, please use the legacy Keras optimizer instead, located at `tf.keras.optimizers.legacy.Adam`.\n"
     ]
    }
   ],
   "source": [
    "# Define Inputs and Outputs of NLP model as with Numeric Model\n",
    "model_nlp = build_model_nlp() # comment-out to keep pre-trained weights not to start from scratch\n",
    "input_text = model_nlp.input\n",
    "output_text = model_nlp.output\n",
    "\n",
    "model_num = build_model_num() # comment-out to keep pre-trained weights not to start from scratch\n",
    "input_num = model_num.input\n",
    "output_num = model_num.output\n"
   ]
  },
  {
   "cell_type": "code",
   "execution_count": 73,
   "metadata": {},
   "outputs": [],
   "source": [
    "# Let's combine the two streams of data and add two dense layers on top!\n",
    "inputs = [input_text, input_num]\n",
    "\n",
    "combined = layers.concatenate([output_text, output_num])\n",
    "\n",
    "x = layers.Dense(10, activation=\"relu\")(combined)\n",
    "\n",
    "outputs = layers.Dense(6, activation=\"softmax\")(x)\n",
    "\n",
    "model_combined = models.Model(inputs=inputs, outputs=outputs)\n"
   ]
  },
  {
   "cell_type": "code",
   "execution_count": 74,
   "metadata": {},
   "outputs": [
    {
     "name": "stdout",
     "output_type": "stream",
     "text": [
      "You must install pydot (`pip install pydot`) and install graphviz (see instructions at https://graphviz.gitlab.io/download/) for plot_model to work.\n"
     ]
    }
   ],
   "source": [
    "plot_model(model_combined, \"multi_input_model.png\", show_shapes=True)\n"
   ]
  },
  {
   "cell_type": "code",
   "execution_count": 75,
   "metadata": {},
   "outputs": [
    {
     "name": "stderr",
     "output_type": "stream",
     "text": [
      "WARNING:absl:At this time, the v2.11+ optimizer `tf.keras.optimizers.Adam` runs slowly on M1/M2 Macs, please use the legacy Keras optimizer instead, located at `tf.keras.optimizers.legacy.Adam`.\n"
     ]
    },
    {
     "name": "stdout",
     "output_type": "stream",
     "text": [
      "Epoch 1/100\n",
      "73/73 [==============================] - 3s 36ms/step - loss: 1.7666 - accuracy: 0.1742 - val_loss: 1.7224 - val_accuracy: 0.2429\n",
      "Epoch 2/100\n",
      "73/73 [==============================] - 2s 34ms/step - loss: 1.7154 - accuracy: 0.2701 - val_loss: 1.6765 - val_accuracy: 0.3024\n",
      "Epoch 3/100\n",
      "73/73 [==============================] - 2s 33ms/step - loss: 1.6642 - accuracy: 0.3042 - val_loss: 1.6157 - val_accuracy: 0.3216\n",
      "Epoch 4/100\n",
      "73/73 [==============================] - 2s 34ms/step - loss: 1.6108 - accuracy: 0.3124 - val_loss: 1.5782 - val_accuracy: 0.3075\n",
      "Epoch 5/100\n",
      "73/73 [==============================] - 2s 34ms/step - loss: 1.5732 - accuracy: 0.3189 - val_loss: 1.5531 - val_accuracy: 0.3256\n",
      "Epoch 6/100\n",
      "73/73 [==============================] - 2s 34ms/step - loss: 1.5476 - accuracy: 0.3276 - val_loss: 1.5310 - val_accuracy: 0.3306\n",
      "Epoch 7/100\n",
      "73/73 [==============================] - 2s 33ms/step - loss: 1.5264 - accuracy: 0.3392 - val_loss: 1.5122 - val_accuracy: 0.3387\n",
      "Epoch 8/100\n",
      "73/73 [==============================] - 2s 34ms/step - loss: 1.5069 - accuracy: 0.3462 - val_loss: 1.5226 - val_accuracy: 0.3377\n",
      "Epoch 9/100\n",
      "73/73 [==============================] - 2s 34ms/step - loss: 1.5039 - accuracy: 0.3418 - val_loss: 1.5109 - val_accuracy: 0.3397\n",
      "Epoch 10/100\n",
      "73/73 [==============================] - 2s 34ms/step - loss: 1.4827 - accuracy: 0.3691 - val_loss: 1.4985 - val_accuracy: 0.3508\n",
      "Epoch 11/100\n",
      "73/73 [==============================] - 2s 34ms/step - loss: 1.4709 - accuracy: 0.3604 - val_loss: 1.4862 - val_accuracy: 0.3488\n",
      "Epoch 12/100\n",
      "73/73 [==============================] - 2s 34ms/step - loss: 1.4748 - accuracy: 0.3665 - val_loss: 1.4824 - val_accuracy: 0.3629\n",
      "Epoch 13/100\n",
      "73/73 [==============================] - 3s 35ms/step - loss: 1.4639 - accuracy: 0.3695 - val_loss: 1.4859 - val_accuracy: 0.3518\n",
      "Epoch 14/100\n",
      "73/73 [==============================] - 3s 35ms/step - loss: 1.4503 - accuracy: 0.3725 - val_loss: 1.4885 - val_accuracy: 0.3427\n",
      "Epoch 15/100\n",
      "73/73 [==============================] - 3s 35ms/step - loss: 1.4398 - accuracy: 0.3799 - val_loss: 1.4782 - val_accuracy: 0.3589\n",
      "Epoch 16/100\n",
      "73/73 [==============================] - 2s 34ms/step - loss: 1.4428 - accuracy: 0.3678 - val_loss: 1.4799 - val_accuracy: 0.3589\n",
      "Epoch 17/100\n",
      "73/73 [==============================] - 2s 34ms/step - loss: 1.4294 - accuracy: 0.3889 - val_loss: 1.4710 - val_accuracy: 0.3569\n",
      "Epoch 18/100\n",
      "73/73 [==============================] - 2s 34ms/step - loss: 1.4248 - accuracy: 0.3911 - val_loss: 1.4719 - val_accuracy: 0.3669\n",
      "Epoch 19/100\n",
      "73/73 [==============================] - 3s 35ms/step - loss: 1.4140 - accuracy: 0.3799 - val_loss: 1.4819 - val_accuracy: 0.3669\n",
      "Epoch 20/100\n",
      "73/73 [==============================] - 3s 36ms/step - loss: 1.4116 - accuracy: 0.3898 - val_loss: 1.4779 - val_accuracy: 0.3569\n",
      "Epoch 21/100\n",
      "73/73 [==============================] - 2s 34ms/step - loss: 1.4122 - accuracy: 0.3859 - val_loss: 1.4693 - val_accuracy: 0.3609\n",
      "Epoch 22/100\n",
      "73/73 [==============================] - 2s 33ms/step - loss: 1.4044 - accuracy: 0.4015 - val_loss: 1.4767 - val_accuracy: 0.3649\n",
      "Epoch 23/100\n",
      "73/73 [==============================] - 2s 33ms/step - loss: 1.4013 - accuracy: 0.3993 - val_loss: 1.4745 - val_accuracy: 0.3669\n",
      "Epoch 24/100\n",
      "73/73 [==============================] - 2s 34ms/step - loss: 1.3921 - accuracy: 0.3984 - val_loss: 1.4913 - val_accuracy: 0.3498\n",
      "Epoch 25/100\n",
      "73/73 [==============================] - 2s 34ms/step - loss: 1.3917 - accuracy: 0.3989 - val_loss: 1.4731 - val_accuracy: 0.3609\n",
      "Epoch 26/100\n",
      "73/73 [==============================] - 2s 34ms/step - loss: 1.3773 - accuracy: 0.4045 - val_loss: 1.4788 - val_accuracy: 0.3609\n",
      "Epoch 27/100\n",
      "73/73 [==============================] - 2s 33ms/step - loss: 1.3742 - accuracy: 0.4041 - val_loss: 1.5055 - val_accuracy: 0.3538\n",
      "Epoch 28/100\n",
      "73/73 [==============================] - 2s 33ms/step - loss: 1.3707 - accuracy: 0.4088 - val_loss: 1.4980 - val_accuracy: 0.3498\n",
      "Epoch 29/100\n",
      "73/73 [==============================] - 2s 34ms/step - loss: 1.3746 - accuracy: 0.4153 - val_loss: 1.4881 - val_accuracy: 0.3649\n",
      "Epoch 30/100\n",
      "73/73 [==============================] - 2s 34ms/step - loss: 1.3641 - accuracy: 0.4205 - val_loss: 1.4792 - val_accuracy: 0.3609\n",
      "Epoch 31/100\n",
      "73/73 [==============================] - 2s 33ms/step - loss: 1.3547 - accuracy: 0.4192 - val_loss: 1.4787 - val_accuracy: 0.3579\n"
     ]
    },
    {
     "data": {
      "text/plain": [
       "<keras.src.callbacks.History at 0x2f797b580>"
      ]
     },
     "execution_count": 75,
     "metadata": {},
     "output_type": "execute_result"
    }
   ],
   "source": [
    "model_combined.compile(loss=\"sparse_categorical_crossentropy\", optimizer=Adam(), metrics=['accuracy'])\n",
    "es = EarlyStopping(patience=10)\n",
    "\n",
    "model_combined.fit(x=[X_train_pad, X_train_num],\n",
    "                   y=y_train,\n",
    "                   validation_split=0.3,\n",
    "                   epochs=100,\n",
    "                   batch_size=32,\n",
    "                   callbacks=[es])\n"
   ]
  },
  {
   "cell_type": "code",
   "execution_count": 76,
   "metadata": {},
   "outputs": [
    {
     "name": "stdout",
     "output_type": "stream",
     "text": [
      "45/45 [==============================] - 1s 11ms/step - loss: 1.4832 - accuracy: 0.3484\n",
      "Test loss: 1.4832\n",
      "Test accuracy: 0.3484\n"
     ]
    }
   ],
   "source": [
    "loss, accuracy = model_combined.evaluate([X_test_pad, X_test_num], y_test)\n",
    "print(f'Test loss: {loss:.4f}')\n",
    "print(f'Test accuracy: {accuracy:.4f}')\n"
   ]
  },
  {
   "cell_type": "markdown",
   "metadata": {},
   "source": [
    "### Confusion Matrix"
   ]
  },
  {
   "cell_type": "code",
   "execution_count": 77,
   "metadata": {},
   "outputs": [
    {
     "name": "stdout",
     "output_type": "stream",
     "text": [
      "45/45 [==============================] - 1s 11ms/step\n"
     ]
    }
   ],
   "source": [
    "predictions = model_combined.predict([X_test_pad, X_test_num])\n",
    "\n",
    "# Convert probabilities to class labels\n",
    "class_labels_predictions = np.argmax(predictions, axis=1)\n"
   ]
  },
  {
   "cell_type": "code",
   "execution_count": 78,
   "metadata": {},
   "outputs": [
    {
     "data": {
      "image/png": "[encoded data removed]",
      "text/plain": [
       "<Figure size 1500x1500 with 2 Axes>"
      ]
     },
     "metadata": {},
     "output_type": "display_data"
    }
   ],
   "source": [
    "y_true = y_test\n",
    "y_pred = class_labels_predictions\n",
    "\n",
    "cm = confusion_matrix(y_true, y_pred)\n",
    "\n",
    "# Plotting\n",
    "fig, ax = plt.subplots(figsize=(15,15))\n",
    "sns.heatmap(cm, annot=True, ax=ax, cmap='Blues', fmt='g')\n",
    "\n",
    "# labels, title, and ticks\n",
    "ax.set_xlabel('Predicted labels')\n",
    "ax.set_ylabel('True labels')\n",
    "ax.set_title('Confusion Matrix')\n",
    "\n",
    "ax.xaxis.set_ticklabels(labels_dict.keys()) # replace with your class names\n",
    "ax.yaxis.set_ticklabels(labels_dict.keys()) # replace with your class names\n",
    "plt.show()\n"
   ]
  },
  {
   "cell_type": "markdown",
   "metadata": {},
   "source": []
  }
 ],
 "metadata": {
  "kernelspec": {
   "display_name": "Python 3 (ipykernel)",
   "language": "python",
   "name": "python3"
  },
  "language_info": {
   "codemirror_mode": {
    "name": "ipython",
    "version": 3
   },
   "file_extension": ".py",
   "mimetype": "text/x-python",
   "name": "python",
   "nbconvert_exporter": "python",
   "pygments_lexer": "ipython3",
   "version": "3.10.6"
  }
 },
 "nbformat": 4,
 "nbformat_minor": 4
}
